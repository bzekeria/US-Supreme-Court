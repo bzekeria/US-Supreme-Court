{
 "cells": [
  {
   "cell_type": "markdown",
   "id": "6b7635a0",
   "metadata": {},
   "source": [
    "*Over time, we've been seeing Supreme Court Justices being nominated at a young age and serving for multiple decades at an old age.*\n",
    "\n",
    "*Within the current court (Roberts), two Justices have served for a relatively long time; Justice Clarence Thomas (30 years come October) and Justice Stephen Bryer (27 years).*\n",
    "\n",
    "*Respecting Article 3 and Federalist 78 original intent, this analysis in no way is aiming a finger to a particular Justice for their length of time on the court.*"
   ]
  },
  {
   "cell_type": "markdown",
   "id": "54338658",
   "metadata": {},
   "source": [
    "### Column Descriptions"
   ]
  },
  {
   "cell_type": "markdown",
   "id": "acc95bdf",
   "metadata": {},
   "source": [
    "0. **name** - Justice's full name\n",
    "1. **birth_date** - Justice's date of birth\n",
    "2. **birth_st** - State in which Justice was born\n",
    "3. **gender** - Justice's gender\n",
    "4. **race** - Justice's race\n",
    "5. **religion** - Justice's religion\n",
    "6. **state** - State in which Justice lives\n",
    "7. **party** - Political party of the President who nominated Justice\n",
    "8. **president** - President who nominated Justice\n",
    "9. **sentae_aye** - Senate votes for the nomination of Justice\n",
    "10. **sentae_nay** - Senate votes against the nomination of Justice\n",
    "11. **term_start** - Date when Justice started on the court\n",
    "12. **term_end** - Date when Justice ended on the court\n",
    "13. **death_date** - Justice's death date"
   ]
  },
  {
   "cell_type": "code",
   "execution_count": 1,
   "id": "e3f36367",
   "metadata": {},
   "outputs": [],
   "source": [
    "# import libraries\n",
    "import numpy as np\n",
    "import pandas as pd\n",
    "import datetime"
   ]
  },
  {
   "cell_type": "code",
   "execution_count": 2,
   "id": "389d621e",
   "metadata": {},
   "outputs": [],
   "source": [
    "scotus = pd.read_csv(\"supreme_data.csv\")"
   ]
  },
  {
   "cell_type": "code",
   "execution_count": 3,
   "id": "c90c8fbb",
   "metadata": {},
   "outputs": [
    {
     "data": {
      "text/html": [
       "<div>\n",
       "<style scoped>\n",
       "    .dataframe tbody tr th:only-of-type {\n",
       "        vertical-align: middle;\n",
       "    }\n",
       "\n",
       "    .dataframe tbody tr th {\n",
       "        vertical-align: top;\n",
       "    }\n",
       "\n",
       "    .dataframe thead th {\n",
       "        text-align: right;\n",
       "    }\n",
       "</style>\n",
       "<table border=\"1\" class=\"dataframe\">\n",
       "  <thead>\n",
       "    <tr style=\"text-align: right;\">\n",
       "      <th></th>\n",
       "      <th>Unnamed: 0</th>\n",
       "      <th>name</th>\n",
       "      <th>birth_date</th>\n",
       "      <th>birth_st</th>\n",
       "      <th>gender</th>\n",
       "      <th>race</th>\n",
       "      <th>religion</th>\n",
       "      <th>state</th>\n",
       "      <th>party</th>\n",
       "      <th>president</th>\n",
       "      <th>senate_aye</th>\n",
       "      <th>senate_nay</th>\n",
       "      <th>term_start</th>\n",
       "      <th>term_end</th>\n",
       "      <th>death_date</th>\n",
       "    </tr>\n",
       "  </thead>\n",
       "  <tbody>\n",
       "    <tr>\n",
       "      <th>9</th>\n",
       "      <td>10</td>\n",
       "      <td>Chase, Samuel</td>\n",
       "      <td>1741-04-17</td>\n",
       "      <td>MD</td>\n",
       "      <td>M</td>\n",
       "      <td>White</td>\n",
       "      <td>episcopalian</td>\n",
       "      <td>MD</td>\n",
       "      <td>Federalist</td>\n",
       "      <td>1</td>\n",
       "      <td>NaN</td>\n",
       "      <td>NaN</td>\n",
       "      <td>1796-02-04</td>\n",
       "      <td>1811-06-19</td>\n",
       "      <td>1811-06-19</td>\n",
       "    </tr>\n",
       "    <tr>\n",
       "      <th>49</th>\n",
       "      <td>50</td>\n",
       "      <td>Lamar, Lucius Quintus Cincinnatus</td>\n",
       "      <td>1825-09-17</td>\n",
       "      <td>GA</td>\n",
       "      <td>M</td>\n",
       "      <td>White</td>\n",
       "      <td>methodist</td>\n",
       "      <td>MS</td>\n",
       "      <td>Democrat</td>\n",
       "      <td>22</td>\n",
       "      <td>32.0</td>\n",
       "      <td>28.0</td>\n",
       "      <td>1888-01-18</td>\n",
       "      <td>1893-01-23</td>\n",
       "      <td>1893-01-23</td>\n",
       "    </tr>\n",
       "    <tr>\n",
       "      <th>75</th>\n",
       "      <td>76</td>\n",
       "      <td>Roberts, Owen Josephus</td>\n",
       "      <td>1875-05-02</td>\n",
       "      <td>PA</td>\n",
       "      <td>M</td>\n",
       "      <td>White</td>\n",
       "      <td>episcopalian</td>\n",
       "      <td>PA</td>\n",
       "      <td>Republican</td>\n",
       "      <td>31</td>\n",
       "      <td>NaN</td>\n",
       "      <td>NaN</td>\n",
       "      <td>1930-06-02</td>\n",
       "      <td>1945-07-31</td>\n",
       "      <td>1955-05-17</td>\n",
       "    </tr>\n",
       "  </tbody>\n",
       "</table>\n",
       "</div>"
      ],
      "text/plain": [
       "    Unnamed: 0                               name  birth_date birth_st gender  \\\n",
       "9           10                      Chase, Samuel  1741-04-17       MD      M   \n",
       "49          50  Lamar, Lucius Quintus Cincinnatus  1825-09-17       GA      M   \n",
       "75          76             Roberts, Owen Josephus  1875-05-02       PA      M   \n",
       "\n",
       "     race      religion state       party  president  senate_aye  senate_nay  \\\n",
       "9   White  episcopalian    MD  Federalist          1         NaN         NaN   \n",
       "49  White     methodist    MS    Democrat         22        32.0        28.0   \n",
       "75  White  episcopalian    PA  Republican         31         NaN         NaN   \n",
       "\n",
       "    term_start    term_end  death_date  \n",
       "9   1796-02-04  1811-06-19  1811-06-19  \n",
       "49  1888-01-18  1893-01-23  1893-01-23  \n",
       "75  1930-06-02  1945-07-31  1955-05-17  "
      ]
     },
     "execution_count": 3,
     "metadata": {},
     "output_type": "execute_result"
    }
   ],
   "source": [
    "scotus.sample(3)"
   ]
  },
  {
   "cell_type": "markdown",
   "id": "bf69c116",
   "metadata": {},
   "source": [
    "# Data Cleaning"
   ]
  },
  {
   "cell_type": "markdown",
   "id": "7d74e5d9",
   "metadata": {},
   "source": [
    "**Task 1: Dop the ```Unnamed: 0``` column**"
   ]
  },
  {
   "cell_type": "code",
   "execution_count": 4,
   "id": "21d1cb88",
   "metadata": {},
   "outputs": [],
   "source": [
    "scotus.drop(columns = [\"Unnamed: 0\"], inplace = True)"
   ]
  },
  {
   "cell_type": "code",
   "execution_count": 5,
   "id": "d7596837",
   "metadata": {},
   "outputs": [
    {
     "data": {
      "text/plain": [
       "Index(['name', 'birth_date', 'birth_st', 'gender', 'race', 'religion', 'state',\n",
       "       'party', 'president', 'senate_aye', 'senate_nay', 'term_start',\n",
       "       'term_end', 'death_date'],\n",
       "      dtype='object')"
      ]
     },
     "execution_count": 5,
     "metadata": {},
     "output_type": "execute_result"
    }
   ],
   "source": [
    "scotus.columns"
   ]
  },
  {
   "cell_type": "markdown",
   "id": "4490ac79",
   "metadata": {},
   "source": [
    "**Task 2: Keep the first and last name for each Justice under the ```name``` column**"
   ]
  },
  {
   "cell_type": "markdown",
   "id": "0ddbd3ed",
   "metadata": {},
   "source": [
    "##### 2.1: Output all of the Justice's names"
   ]
  },
  {
   "cell_type": "code",
   "execution_count": 6,
   "id": "fedbc595",
   "metadata": {},
   "outputs": [
    {
     "name": "stdout",
     "output_type": "stream",
     "text": [
      "Jay, John\n",
      "Rutledge, John\n",
      "Cushing, William\n",
      "Wilson, James\n",
      "Blair, John, Jr.\n",
      "Iredell, James\n",
      "Johnson, Thomas\n",
      "Paterson, William\n",
      "Rutledge, John\n",
      "Chase, Samuel\n",
      "Ellsworth, Oliver\n",
      "Washington, Bushrod\n",
      "Moore, Alfred\n",
      "Marshall, John\n",
      "Johnson, William\n",
      "Livingston, Henry Brockholst\n",
      "Todd, Thomas\n",
      "Duvall, Gabriel\n",
      "Story, Joseph\n",
      "Thompson, Smith\n",
      "Trimble, Robert\n",
      "McLean, John\n",
      "Baldwin, Henry\n",
      "Wayne, James Moore\n",
      "Taney, Roger Brooke\n",
      "Barbour, Philip Pendelton\n",
      "Catron, John\n",
      "McKinley, John\n",
      "Daniel, Peter Vivian\n",
      "Nelson, Samuel\n",
      "Woodbury, Levi\n",
      "Grier, Robert Cooper\n",
      "Curtis, Benjamin Robbins\n",
      "Campbell, John Archibald\n",
      "Clifford, Nathan\n",
      "Swayne, Noah Haynes\n",
      "Miller, Samuel Freeman\n",
      "Davis, David\n",
      "Field, Stephen Johnson\n",
      "Chase, Salmon Portland\n",
      "Strong, William\n",
      "Bradley, Joseph P.\n",
      "Hunt, Ward\n",
      "Waite, Morrison Remick\n",
      "Harlan, John Marshall (I)\n",
      "Woods, William Burnham\n",
      "Matthews, Stanley\n",
      "Gray, Horace\n",
      "Blatchford, Samuel\n",
      "Lamar, Lucius Quintus Cincinnatus\n",
      "Fuller, Melville Weston\n",
      "Brewer, David Josiah\n",
      "Brown, Henry Billings\n",
      "Shiras, George, Jr.\n",
      "Jackson, Howell Edmunds\n",
      "White, Edward Douglass\n",
      "Peckham, Rufus Wheeler\n",
      "McKenna, Joseph\n",
      "Holmes, Oliver Wendell, Jr\n",
      "Day, William Rufus\n",
      "Moody, William Henry\n",
      "Lurton, Horace Harmon\n",
      "Hughes, Charles Evans\n",
      "Van Devanter, Willis\n",
      "Lamar, Joseph Rucker\n",
      "Pitney, Mahlon\n",
      "McReynolds, James Clark\n",
      "Brandeis, Louis Dembitz\n",
      "Clarke, John Hessin\n",
      "Taft, William Howard\n",
      "Sutherland, George\n",
      "Butler, Pierce\n",
      "Sanford, Edward Terry\n",
      "Stone, Harlan Fiske\n",
      "Hughes, Charles Evans\n",
      "Roberts, Owen Josephus\n",
      "Cardozo, Benjamin Nathan\n",
      "Black, Hugo Lafayette\n",
      "Reed, Stanley Forman\n",
      "Frankfurter, Felix\n",
      "Douglas, William Orville\n",
      "Murphy, Francis (Frank) William\n",
      "Byrnes, James Frances\n",
      "Jackson, Robert Houghwout\n",
      "Rutledge, Wiley Blount\n",
      "Burton, Harold Hitz\n",
      "Vinson, Fred Moore\n",
      "Clark, Tom Campbell\n",
      "Minton, Sherman\n",
      "Warren, Earl\n",
      "Harlan, John Marshall (II)\n",
      "Brennan, William Joseph, Jr.\n",
      "Whittaker, Charles Evans\n",
      "Stewart, Potter\n",
      "White, Byron Raymond\n",
      "Goldberg, Arthur Joseph\n",
      "Fortas, Abe\n",
      "Marshall, Thurgood\n",
      "Burger, Warren Earl\n",
      "Blackmun, Harry Andrew\n",
      "Powell, Lewis Franklin, Jr.\n",
      "Rehnquist, William Hubbs\n",
      "Stevens, John Paul\n",
      "O'Connor, Sandra Day\n",
      "Scalia, Antonin\n",
      "Kennedy, Anthony McLeod\n",
      "Souter, David H.\n",
      "Thomas, Clarence\n",
      "Ginsburg, Ruth Bader\n",
      "Breyer, Stephen G.\n",
      "Roberts, John G., Jr.\n",
      "Alito, Samuel A., Jr.\n",
      "Sotomayor, Sonia Maria\n",
      "Kagan, Elena\n",
      "Gorsuch, Neil McGill\n",
      "Kavanaugh, Brett Michael\n",
      "Amy Coney Barrett\n"
     ]
    }
   ],
   "source": [
    "for i in scotus[\"name\"]:\n",
    "    print(i)"
   ]
  },
  {
   "cell_type": "markdown",
   "id": "51805423",
   "metadata": {},
   "source": [
    "##### 2.2: Output all of the Justice's names with no commas and rename it"
   ]
  },
  {
   "cell_type": "code",
   "execution_count": 7,
   "id": "672734bb",
   "metadata": {},
   "outputs": [
    {
     "name": "stdout",
     "output_type": "stream",
     "text": [
      "Amy Coney Barrett\n"
     ]
    }
   ],
   "source": [
    "for i in scotus[\"name\"]:\n",
    "    if \",\" not in i:\n",
    "        print(i)"
   ]
  },
  {
   "cell_type": "code",
   "execution_count": 8,
   "id": "db411bd0",
   "metadata": {},
   "outputs": [],
   "source": [
    "scotus[\"name\"] = scotus[\"name\"].replace({\"Amy Coney Barrett\": \"Barrett, Amy Coney\"})"
   ]
  },
  {
   "cell_type": "code",
   "execution_count": 9,
   "id": "9cb9a722",
   "metadata": {},
   "outputs": [
    {
     "data": {
      "text/html": [
       "<div>\n",
       "<style scoped>\n",
       "    .dataframe tbody tr th:only-of-type {\n",
       "        vertical-align: middle;\n",
       "    }\n",
       "\n",
       "    .dataframe tbody tr th {\n",
       "        vertical-align: top;\n",
       "    }\n",
       "\n",
       "    .dataframe thead th {\n",
       "        text-align: right;\n",
       "    }\n",
       "</style>\n",
       "<table border=\"1\" class=\"dataframe\">\n",
       "  <thead>\n",
       "    <tr style=\"text-align: right;\">\n",
       "      <th></th>\n",
       "      <th>name</th>\n",
       "      <th>birth_date</th>\n",
       "      <th>birth_st</th>\n",
       "      <th>gender</th>\n",
       "      <th>race</th>\n",
       "      <th>religion</th>\n",
       "      <th>state</th>\n",
       "      <th>party</th>\n",
       "      <th>president</th>\n",
       "      <th>senate_aye</th>\n",
       "      <th>senate_nay</th>\n",
       "      <th>term_start</th>\n",
       "      <th>term_end</th>\n",
       "      <th>death_date</th>\n",
       "    </tr>\n",
       "  </thead>\n",
       "  <tbody>\n",
       "    <tr>\n",
       "      <th>116</th>\n",
       "      <td>Barrett, Amy Coney</td>\n",
       "      <td>1972-01-28</td>\n",
       "      <td>LA</td>\n",
       "      <td>F</td>\n",
       "      <td>White</td>\n",
       "      <td>roman catholic</td>\n",
       "      <td>IN</td>\n",
       "      <td>Republican</td>\n",
       "      <td>45</td>\n",
       "      <td>52.0</td>\n",
       "      <td>48.0</td>\n",
       "      <td>2020-10-27</td>\n",
       "      <td>NaN</td>\n",
       "      <td>NaN</td>\n",
       "    </tr>\n",
       "  </tbody>\n",
       "</table>\n",
       "</div>"
      ],
      "text/plain": [
       "                   name  birth_date birth_st gender   race        religion  \\\n",
       "116  Barrett, Amy Coney  1972-01-28       LA      F  White  roman catholic   \n",
       "\n",
       "    state       party  president  senate_aye  senate_nay  term_start term_end  \\\n",
       "116    IN  Republican         45        52.0        48.0  2020-10-27      NaN   \n",
       "\n",
       "    death_date  \n",
       "116        NaN  "
      ]
     },
     "execution_count": 9,
     "metadata": {},
     "output_type": "execute_result"
    }
   ],
   "source": [
    "scotus[scotus[\"name\"] == \"Barrett, Amy Coney\"]"
   ]
  },
  {
   "cell_type": "markdown",
   "id": "f64262bc",
   "metadata": {},
   "source": [
    "##### 2.2: Create a function that renames the ```name``` column"
   ]
  },
  {
   "cell_type": "code",
   "execution_count": 10,
   "id": "5affc942",
   "metadata": {},
   "outputs": [],
   "source": [
    "def rename_name(justice_name):\n",
    "    '''Split the names after the comma to retrieve the last name [0]. Then split the name\n",
    "    after a space [1]. Return the both values.'''\n",
    "    # since there's two Justice Harlans, include their respective number within their name\n",
    "    if justice_name == \"Harlan, John Marshall (I)\" or justice_name == \"Harlan, John Marshall (II)\":\n",
    "        last_name = justice_name.split(\",\")[0]\n",
    "        first_name = justice_name.split(\" \")[1]\n",
    "        num = justice_name.split(\" \")[3]\n",
    "        full_name = first_name + \" \" + last_name + \" \" + num\n",
    "        return full_name\n",
    "    elif justice_name == \"Van Devanter, Willis\":\n",
    "        last_name = justice_name.split(\",\")[0]\n",
    "        first_name = justice_name.split(\" \")[2]\n",
    "        full_name = first_name + \" \" + last_name\n",
    "        return full_name\n",
    "    else:\n",
    "        last_name = justice_name.split(\",\")[0]\n",
    "        first_name = justice_name.split(\" \")[1]\n",
    "        full_name = first_name + \" \" + last_name\n",
    "        return full_name"
   ]
  },
  {
   "cell_type": "markdown",
   "id": "efda3b15",
   "metadata": {},
   "source": [
    "##### 2.3: Test the function with various name combinations"
   ]
  },
  {
   "cell_type": "code",
   "execution_count": 11,
   "id": "abb30f2c",
   "metadata": {},
   "outputs": [
    {
     "data": {
      "text/plain": [
       "'Elena Kagan'"
      ]
     },
     "execution_count": 11,
     "metadata": {},
     "output_type": "execute_result"
    }
   ],
   "source": [
    "# test a name with only a first and last\n",
    "rename_name(\"Kagan, Elena\")"
   ]
  },
  {
   "cell_type": "code",
   "execution_count": 12,
   "id": "ec638e11",
   "metadata": {},
   "outputs": [
    {
     "data": {
      "text/plain": [
       "'Byron White'"
      ]
     },
     "execution_count": 12,
     "metadata": {},
     "output_type": "execute_result"
    }
   ],
   "source": [
    "# test a name with a middle name\n",
    "rename_name(\"White, Byron Raymond\")"
   ]
  },
  {
   "cell_type": "code",
   "execution_count": 13,
   "id": "da767ae7",
   "metadata": {},
   "outputs": [
    {
     "data": {
      "text/plain": [
       "'Oliver Holmes'"
      ]
     },
     "execution_count": 13,
     "metadata": {},
     "output_type": "execute_result"
    }
   ],
   "source": [
    "# test a name with suffixes \n",
    "rename_name(\"Holmes, Oliver Wendell, Jr\")"
   ]
  },
  {
   "cell_type": "code",
   "execution_count": 14,
   "id": "1c821729",
   "metadata": {},
   "outputs": [
    {
     "data": {
      "text/plain": [
       "'John Harlan (I)'"
      ]
     },
     "execution_count": 14,
     "metadata": {},
     "output_type": "execute_result"
    }
   ],
   "source": [
    "# test one of the Justice Harlans'\n",
    "rename_name(\"Harlan, John Marshall (I)\")"
   ]
  },
  {
   "cell_type": "code",
   "execution_count": 15,
   "id": "5f635eed",
   "metadata": {},
   "outputs": [
    {
     "data": {
      "text/plain": [
       "'Willis Van Devanter'"
      ]
     },
     "execution_count": 15,
     "metadata": {},
     "output_type": "execute_result"
    }
   ],
   "source": [
    "# test Justice Van Devanter\n",
    "rename_name(\"Van Devanter, Willis\")"
   ]
  },
  {
   "cell_type": "markdown",
   "id": "454c38ce",
   "metadata": {},
   "source": [
    "##### 2.5: Apply the ```rename_name``` function to the ```name``` column"
   ]
  },
  {
   "cell_type": "code",
   "execution_count": 16,
   "id": "ea704b6d",
   "metadata": {},
   "outputs": [],
   "source": [
    "scotus = scotus.assign(name = scotus[\"name\"].apply(rename_name))"
   ]
  },
  {
   "cell_type": "code",
   "execution_count": 17,
   "id": "79cebde8",
   "metadata": {},
   "outputs": [
    {
     "data": {
      "text/plain": [
       "0             John Jay\n",
       "1        John Rutledge\n",
       "2      William Cushing\n",
       "3         James Wilson\n",
       "4          John, Blair\n",
       "            ...       \n",
       "112    Sonia Sotomayor\n",
       "113        Elena Kagan\n",
       "114       Neil Gorsuch\n",
       "115    Brett Kavanaugh\n",
       "116        Amy Barrett\n",
       "Name: name, Length: 117, dtype: object"
      ]
     },
     "execution_count": 17,
     "metadata": {},
     "output_type": "execute_result"
    }
   ],
   "source": [
    "scotus[\"name\"]"
   ]
  },
  {
   "cell_type": "markdown",
   "id": "b3008c20",
   "metadata": {},
   "source": [
    "##### 2.6: Check if any of the values in the ```name``` column have a ```,```"
   ]
  },
  {
   "cell_type": "code",
   "execution_count": 18,
   "id": "78a8615f",
   "metadata": {},
   "outputs": [
    {
     "name": "stdout",
     "output_type": "stream",
     "text": [
      "John, Blair\n",
      "George, Shiras\n"
     ]
    }
   ],
   "source": [
    "for i in scotus[\"name\"]:\n",
    "    if \",\" in i:\n",
    "        print(i)"
   ]
  },
  {
   "cell_type": "markdown",
   "id": "fdd72b60",
   "metadata": {},
   "source": [
    "##### 2.7: Rename the above Justices to the correct format"
   ]
  },
  {
   "cell_type": "code",
   "execution_count": 19,
   "id": "9b76fc6e",
   "metadata": {},
   "outputs": [],
   "source": [
    "scotus[\"name\"] = scotus[\"name\"].replace({\"John, Blair\": \"John Blair\",\n",
    "                                        \"George, Shiras\": \"George Shiras\"})"
   ]
  },
  {
   "cell_type": "code",
   "execution_count": 20,
   "id": "8ece91bd",
   "metadata": {},
   "outputs": [
    {
     "data": {
      "text/html": [
       "<div>\n",
       "<style scoped>\n",
       "    .dataframe tbody tr th:only-of-type {\n",
       "        vertical-align: middle;\n",
       "    }\n",
       "\n",
       "    .dataframe tbody tr th {\n",
       "        vertical-align: top;\n",
       "    }\n",
       "\n",
       "    .dataframe thead th {\n",
       "        text-align: right;\n",
       "    }\n",
       "</style>\n",
       "<table border=\"1\" class=\"dataframe\">\n",
       "  <thead>\n",
       "    <tr style=\"text-align: right;\">\n",
       "      <th></th>\n",
       "      <th>name</th>\n",
       "      <th>birth_date</th>\n",
       "      <th>birth_st</th>\n",
       "      <th>gender</th>\n",
       "      <th>race</th>\n",
       "      <th>religion</th>\n",
       "      <th>state</th>\n",
       "      <th>party</th>\n",
       "      <th>president</th>\n",
       "      <th>senate_aye</th>\n",
       "      <th>senate_nay</th>\n",
       "      <th>term_start</th>\n",
       "      <th>term_end</th>\n",
       "      <th>death_date</th>\n",
       "    </tr>\n",
       "  </thead>\n",
       "  <tbody>\n",
       "    <tr>\n",
       "      <th>4</th>\n",
       "      <td>John Blair</td>\n",
       "      <td>1732-04-17</td>\n",
       "      <td>VA</td>\n",
       "      <td>M</td>\n",
       "      <td>White</td>\n",
       "      <td>episcopalian</td>\n",
       "      <td>VA</td>\n",
       "      <td>Federalist</td>\n",
       "      <td>1</td>\n",
       "      <td>NaN</td>\n",
       "      <td>NaN</td>\n",
       "      <td>1790-02-02</td>\n",
       "      <td>1796-01-27</td>\n",
       "      <td>1800-08-31</td>\n",
       "    </tr>\n",
       "  </tbody>\n",
       "</table>\n",
       "</div>"
      ],
      "text/plain": [
       "         name  birth_date birth_st gender   race      religion state  \\\n",
       "4  John Blair  1732-04-17       VA      M  White  episcopalian    VA   \n",
       "\n",
       "        party  president  senate_aye  senate_nay  term_start    term_end  \\\n",
       "4  Federalist          1         NaN         NaN  1790-02-02  1796-01-27   \n",
       "\n",
       "   death_date  \n",
       "4  1800-08-31  "
      ]
     },
     "execution_count": 20,
     "metadata": {},
     "output_type": "execute_result"
    }
   ],
   "source": [
    "scotus[(scotus[\"name\"] == \"John Blair\")]"
   ]
  },
  {
   "cell_type": "code",
   "execution_count": 21,
   "id": "b4bd0291",
   "metadata": {},
   "outputs": [
    {
     "data": {
      "text/html": [
       "<div>\n",
       "<style scoped>\n",
       "    .dataframe tbody tr th:only-of-type {\n",
       "        vertical-align: middle;\n",
       "    }\n",
       "\n",
       "    .dataframe tbody tr th {\n",
       "        vertical-align: top;\n",
       "    }\n",
       "\n",
       "    .dataframe thead th {\n",
       "        text-align: right;\n",
       "    }\n",
       "</style>\n",
       "<table border=\"1\" class=\"dataframe\">\n",
       "  <thead>\n",
       "    <tr style=\"text-align: right;\">\n",
       "      <th></th>\n",
       "      <th>name</th>\n",
       "      <th>birth_date</th>\n",
       "      <th>birth_st</th>\n",
       "      <th>gender</th>\n",
       "      <th>race</th>\n",
       "      <th>religion</th>\n",
       "      <th>state</th>\n",
       "      <th>party</th>\n",
       "      <th>president</th>\n",
       "      <th>senate_aye</th>\n",
       "      <th>senate_nay</th>\n",
       "      <th>term_start</th>\n",
       "      <th>term_end</th>\n",
       "      <th>death_date</th>\n",
       "    </tr>\n",
       "  </thead>\n",
       "  <tbody>\n",
       "    <tr>\n",
       "      <th>53</th>\n",
       "      <td>George Shiras</td>\n",
       "      <td>1832-01-26</td>\n",
       "      <td>PA</td>\n",
       "      <td>M</td>\n",
       "      <td>White</td>\n",
       "      <td>presbyterian</td>\n",
       "      <td>PA</td>\n",
       "      <td>Republican</td>\n",
       "      <td>23</td>\n",
       "      <td>NaN</td>\n",
       "      <td>NaN</td>\n",
       "      <td>1892-10-10</td>\n",
       "      <td>1903-02-23</td>\n",
       "      <td>1924-08-02</td>\n",
       "    </tr>\n",
       "  </tbody>\n",
       "</table>\n",
       "</div>"
      ],
      "text/plain": [
       "             name  birth_date birth_st gender   race       religion state  \\\n",
       "53  George Shiras  1832-01-26       PA      M  White   presbyterian    PA   \n",
       "\n",
       "         party  president  senate_aye  senate_nay  term_start    term_end  \\\n",
       "53  Republican         23         NaN         NaN  1892-10-10  1903-02-23   \n",
       "\n",
       "    death_date  \n",
       "53  1924-08-02  "
      ]
     },
     "execution_count": 21,
     "metadata": {},
     "output_type": "execute_result"
    }
   ],
   "source": [
    "scotus[(scotus[\"name\"] == \"George Shiras\")]"
   ]
  },
  {
   "cell_type": "markdown",
   "id": "e3b91889",
   "metadata": {},
   "source": [
    "**Task 3: Set the index to the ```name``` column**"
   ]
  },
  {
   "cell_type": "code",
   "execution_count": 22,
   "id": "a930775d",
   "metadata": {},
   "outputs": [
    {
     "data": {
      "text/plain": [
       "115"
      ]
     },
     "execution_count": 22,
     "metadata": {},
     "output_type": "execute_result"
    }
   ],
   "source": [
    "scotus[\"name\"].nunique()"
   ]
  },
  {
   "cell_type": "code",
   "execution_count": 23,
   "id": "b70011f2",
   "metadata": {},
   "outputs": [
    {
     "data": {
      "text/plain": [
       "117"
      ]
     },
     "execution_count": 23,
     "metadata": {},
     "output_type": "execute_result"
    }
   ],
   "source": [
    "scotus.shape[0]"
   ]
  },
  {
   "cell_type": "code",
   "execution_count": 24,
   "id": "d638cfe0",
   "metadata": {},
   "outputs": [
    {
     "data": {
      "text/plain": [
       "2"
      ]
     },
     "execution_count": 24,
     "metadata": {},
     "output_type": "execute_result"
    }
   ],
   "source": [
    "scotus.duplicated(subset=['name']).sum()"
   ]
  },
  {
   "cell_type": "code",
   "execution_count": 25,
   "id": "c266ce53",
   "metadata": {},
   "outputs": [
    {
     "data": {
      "text/html": [
       "<div>\n",
       "<style scoped>\n",
       "    .dataframe tbody tr th:only-of-type {\n",
       "        vertical-align: middle;\n",
       "    }\n",
       "\n",
       "    .dataframe tbody tr th {\n",
       "        vertical-align: top;\n",
       "    }\n",
       "\n",
       "    .dataframe thead th {\n",
       "        text-align: right;\n",
       "    }\n",
       "</style>\n",
       "<table border=\"1\" class=\"dataframe\">\n",
       "  <thead>\n",
       "    <tr style=\"text-align: right;\">\n",
       "      <th></th>\n",
       "      <th>name</th>\n",
       "      <th>birth_date</th>\n",
       "      <th>birth_st</th>\n",
       "      <th>gender</th>\n",
       "      <th>race</th>\n",
       "      <th>religion</th>\n",
       "      <th>state</th>\n",
       "      <th>party</th>\n",
       "      <th>president</th>\n",
       "      <th>senate_aye</th>\n",
       "      <th>senate_nay</th>\n",
       "      <th>term_start</th>\n",
       "      <th>term_end</th>\n",
       "      <th>death_date</th>\n",
       "    </tr>\n",
       "  </thead>\n",
       "  <tbody>\n",
       "    <tr>\n",
       "      <th>8</th>\n",
       "      <td>John Rutledge</td>\n",
       "      <td>1739-09-18</td>\n",
       "      <td>SC</td>\n",
       "      <td>M</td>\n",
       "      <td>White</td>\n",
       "      <td>episcopalian</td>\n",
       "      <td>SC</td>\n",
       "      <td>Federalist</td>\n",
       "      <td>1</td>\n",
       "      <td>NaN</td>\n",
       "      <td>NaN</td>\n",
       "      <td>1795-08-12</td>\n",
       "      <td>1795-12-15</td>\n",
       "      <td>1800-07-18</td>\n",
       "    </tr>\n",
       "    <tr>\n",
       "      <th>74</th>\n",
       "      <td>Charles Hughes</td>\n",
       "      <td>1862-04-11</td>\n",
       "      <td>NY</td>\n",
       "      <td>M</td>\n",
       "      <td>White</td>\n",
       "      <td>baptist</td>\n",
       "      <td>NY</td>\n",
       "      <td>Republican</td>\n",
       "      <td>31</td>\n",
       "      <td>52.0</td>\n",
       "      <td>26.0</td>\n",
       "      <td>1930-02-24</td>\n",
       "      <td>1941-07-01</td>\n",
       "      <td>1948-08-27</td>\n",
       "    </tr>\n",
       "  </tbody>\n",
       "</table>\n",
       "</div>"
      ],
      "text/plain": [
       "              name  birth_date birth_st gender   race      religion state  \\\n",
       "8    John Rutledge  1739-09-18       SC      M  White  episcopalian    SC   \n",
       "74  Charles Hughes  1862-04-11       NY      M  White       baptist    NY   \n",
       "\n",
       "         party  president  senate_aye  senate_nay  term_start    term_end  \\\n",
       "8   Federalist          1         NaN         NaN  1795-08-12  1795-12-15   \n",
       "74  Republican         31        52.0        26.0  1930-02-24  1941-07-01   \n",
       "\n",
       "    death_date  \n",
       "8   1800-07-18  \n",
       "74  1948-08-27  "
      ]
     },
     "execution_count": 25,
     "metadata": {},
     "output_type": "execute_result"
    }
   ],
   "source": [
    "scotus.loc[scotus.duplicated(subset = [\"name\"]), :]"
   ]
  },
  {
   "cell_type": "code",
   "execution_count": 26,
   "id": "705160e4",
   "metadata": {},
   "outputs": [],
   "source": [
    "scotus.set_index(\"name\", inplace = True)"
   ]
  },
  {
   "cell_type": "code",
   "execution_count": 27,
   "id": "6e45b274",
   "metadata": {},
   "outputs": [
    {
     "data": {
      "text/html": [
       "<div>\n",
       "<style scoped>\n",
       "    .dataframe tbody tr th:only-of-type {\n",
       "        vertical-align: middle;\n",
       "    }\n",
       "\n",
       "    .dataframe tbody tr th {\n",
       "        vertical-align: top;\n",
       "    }\n",
       "\n",
       "    .dataframe thead th {\n",
       "        text-align: right;\n",
       "    }\n",
       "</style>\n",
       "<table border=\"1\" class=\"dataframe\">\n",
       "  <thead>\n",
       "    <tr style=\"text-align: right;\">\n",
       "      <th></th>\n",
       "      <th>birth_date</th>\n",
       "      <th>birth_st</th>\n",
       "      <th>gender</th>\n",
       "      <th>race</th>\n",
       "      <th>religion</th>\n",
       "      <th>state</th>\n",
       "      <th>party</th>\n",
       "      <th>president</th>\n",
       "      <th>senate_aye</th>\n",
       "      <th>senate_nay</th>\n",
       "      <th>term_start</th>\n",
       "      <th>term_end</th>\n",
       "      <th>death_date</th>\n",
       "    </tr>\n",
       "    <tr>\n",
       "      <th>name</th>\n",
       "      <th></th>\n",
       "      <th></th>\n",
       "      <th></th>\n",
       "      <th></th>\n",
       "      <th></th>\n",
       "      <th></th>\n",
       "      <th></th>\n",
       "      <th></th>\n",
       "      <th></th>\n",
       "      <th></th>\n",
       "      <th></th>\n",
       "      <th></th>\n",
       "      <th></th>\n",
       "    </tr>\n",
       "  </thead>\n",
       "  <tbody>\n",
       "    <tr>\n",
       "      <th>John McLean</th>\n",
       "      <td>1785-03-11</td>\n",
       "      <td>NJ</td>\n",
       "      <td>M</td>\n",
       "      <td>White</td>\n",
       "      <td>methodist</td>\n",
       "      <td>OH</td>\n",
       "      <td>Democrat</td>\n",
       "      <td>7</td>\n",
       "      <td>NaN</td>\n",
       "      <td>NaN</td>\n",
       "      <td>1830-01-11</td>\n",
       "      <td>1861-04-04</td>\n",
       "      <td>1861-04-04</td>\n",
       "    </tr>\n",
       "  </tbody>\n",
       "</table>\n",
       "</div>"
      ],
      "text/plain": [
       "             birth_date birth_st gender   race   religion state     party  \\\n",
       "name                                                                        \n",
       "John McLean  1785-03-11       NJ      M  White  methodist    OH  Democrat   \n",
       "\n",
       "             president  senate_aye  senate_nay  term_start    term_end  \\\n",
       "name                                                                     \n",
       "John McLean          7         NaN         NaN  1830-01-11  1861-04-04   \n",
       "\n",
       "             death_date  \n",
       "name                     \n",
       "John McLean  1861-04-04  "
      ]
     },
     "execution_count": 27,
     "metadata": {},
     "output_type": "execute_result"
    }
   ],
   "source": [
    "scotus.sample()"
   ]
  },
  {
   "cell_type": "markdown",
   "id": "d792e835",
   "metadata": {},
   "source": [
    "**Task 4:** Convert the ```birth_date```, ```term_start```, ```term_end```, and ```death_date``` to date time objects (year, month, and day)"
   ]
  },
  {
   "cell_type": "markdown",
   "id": "8d2591d1",
   "metadata": {},
   "source": [
    "##### 4.1: Check the the data columns have a data type of ```str```"
   ]
  },
  {
   "cell_type": "code",
   "execution_count": 28,
   "id": "59593ef4",
   "metadata": {},
   "outputs": [],
   "source": [
    "date_columns = [\"birth_date\", \"term_start\", \"term_end\"]"
   ]
  },
  {
   "cell_type": "code",
   "execution_count": 29,
   "id": "daa7bbbf",
   "metadata": {},
   "outputs": [
    {
     "name": "stdout",
     "output_type": "stream",
     "text": [
      "<class 'str'>\n",
      "<class 'str'>\n",
      "<class 'str'>\n"
     ]
    }
   ],
   "source": [
    "for i in date_columns:\n",
    "    data_type = type(scotus[\"birth_date\"].iloc[0])\n",
    "    print(data_type)"
   ]
  },
  {
   "cell_type": "markdown",
   "id": "b5432c78",
   "metadata": {},
   "source": [
    "##### 4.2: Create a function that follows the above task"
   ]
  },
  {
   "cell_type": "code",
   "execution_count": 30,
   "id": "4afc9539",
   "metadata": {},
   "outputs": [
    {
     "data": {
      "text/html": [
       "<div>\n",
       "<style scoped>\n",
       "    .dataframe tbody tr th:only-of-type {\n",
       "        vertical-align: middle;\n",
       "    }\n",
       "\n",
       "    .dataframe tbody tr th {\n",
       "        vertical-align: top;\n",
       "    }\n",
       "\n",
       "    .dataframe thead th {\n",
       "        text-align: right;\n",
       "    }\n",
       "</style>\n",
       "<table border=\"1\" class=\"dataframe\">\n",
       "  <thead>\n",
       "    <tr style=\"text-align: right;\">\n",
       "      <th></th>\n",
       "      <th>birth_date</th>\n",
       "      <th>birth_st</th>\n",
       "      <th>gender</th>\n",
       "      <th>race</th>\n",
       "      <th>religion</th>\n",
       "      <th>state</th>\n",
       "      <th>party</th>\n",
       "      <th>president</th>\n",
       "      <th>senate_aye</th>\n",
       "      <th>senate_nay</th>\n",
       "      <th>term_start</th>\n",
       "      <th>term_end</th>\n",
       "      <th>death_date</th>\n",
       "    </tr>\n",
       "    <tr>\n",
       "      <th>name</th>\n",
       "      <th></th>\n",
       "      <th></th>\n",
       "      <th></th>\n",
       "      <th></th>\n",
       "      <th></th>\n",
       "      <th></th>\n",
       "      <th></th>\n",
       "      <th></th>\n",
       "      <th></th>\n",
       "      <th></th>\n",
       "      <th></th>\n",
       "      <th></th>\n",
       "      <th></th>\n",
       "    </tr>\n",
       "  </thead>\n",
       "  <tbody>\n",
       "  </tbody>\n",
       "</table>\n",
       "</div>"
      ],
      "text/plain": [
       "Empty DataFrame\n",
       "Columns: [birth_date, birth_st, gender, race, religion, state, party, president, senate_aye, senate_nay, term_start, term_end, death_date]\n",
       "Index: []"
      ]
     },
     "execution_count": 30,
     "metadata": {},
     "output_type": "execute_result"
    }
   ],
   "source": [
    "scotus[scotus[\"birth_date\"].isna()]"
   ]
  },
  {
   "cell_type": "code",
   "execution_count": 31,
   "id": "2e0c3a92",
   "metadata": {},
   "outputs": [
    {
     "data": {
      "text/html": [
       "<div>\n",
       "<style scoped>\n",
       "    .dataframe tbody tr th:only-of-type {\n",
       "        vertical-align: middle;\n",
       "    }\n",
       "\n",
       "    .dataframe tbody tr th {\n",
       "        vertical-align: top;\n",
       "    }\n",
       "\n",
       "    .dataframe thead th {\n",
       "        text-align: right;\n",
       "    }\n",
       "</style>\n",
       "<table border=\"1\" class=\"dataframe\">\n",
       "  <thead>\n",
       "    <tr style=\"text-align: right;\">\n",
       "      <th></th>\n",
       "      <th>birth_date</th>\n",
       "      <th>birth_st</th>\n",
       "      <th>gender</th>\n",
       "      <th>race</th>\n",
       "      <th>religion</th>\n",
       "      <th>state</th>\n",
       "      <th>party</th>\n",
       "      <th>president</th>\n",
       "      <th>senate_aye</th>\n",
       "      <th>senate_nay</th>\n",
       "      <th>term_start</th>\n",
       "      <th>term_end</th>\n",
       "      <th>death_date</th>\n",
       "    </tr>\n",
       "    <tr>\n",
       "      <th>name</th>\n",
       "      <th></th>\n",
       "      <th></th>\n",
       "      <th></th>\n",
       "      <th></th>\n",
       "      <th></th>\n",
       "      <th></th>\n",
       "      <th></th>\n",
       "      <th></th>\n",
       "      <th></th>\n",
       "      <th></th>\n",
       "      <th></th>\n",
       "      <th></th>\n",
       "      <th></th>\n",
       "    </tr>\n",
       "  </thead>\n",
       "  <tbody>\n",
       "  </tbody>\n",
       "</table>\n",
       "</div>"
      ],
      "text/plain": [
       "Empty DataFrame\n",
       "Columns: [birth_date, birth_st, gender, race, religion, state, party, president, senate_aye, senate_nay, term_start, term_end, death_date]\n",
       "Index: []"
      ]
     },
     "execution_count": 31,
     "metadata": {},
     "output_type": "execute_result"
    }
   ],
   "source": [
    "scotus[scotus[\"term_start\"].isna()]"
   ]
  },
  {
   "cell_type": "code",
   "execution_count": 32,
   "id": "f713ec98",
   "metadata": {},
   "outputs": [
    {
     "data": {
      "text/html": [
       "<div>\n",
       "<style scoped>\n",
       "    .dataframe tbody tr th:only-of-type {\n",
       "        vertical-align: middle;\n",
       "    }\n",
       "\n",
       "    .dataframe tbody tr th {\n",
       "        vertical-align: top;\n",
       "    }\n",
       "\n",
       "    .dataframe thead th {\n",
       "        text-align: right;\n",
       "    }\n",
       "</style>\n",
       "<table border=\"1\" class=\"dataframe\">\n",
       "  <thead>\n",
       "    <tr style=\"text-align: right;\">\n",
       "      <th></th>\n",
       "      <th>birth_date</th>\n",
       "      <th>birth_st</th>\n",
       "      <th>gender</th>\n",
       "      <th>race</th>\n",
       "      <th>religion</th>\n",
       "      <th>state</th>\n",
       "      <th>party</th>\n",
       "      <th>president</th>\n",
       "      <th>senate_aye</th>\n",
       "      <th>senate_nay</th>\n",
       "      <th>term_start</th>\n",
       "      <th>term_end</th>\n",
       "      <th>death_date</th>\n",
       "    </tr>\n",
       "    <tr>\n",
       "      <th>name</th>\n",
       "      <th></th>\n",
       "      <th></th>\n",
       "      <th></th>\n",
       "      <th></th>\n",
       "      <th></th>\n",
       "      <th></th>\n",
       "      <th></th>\n",
       "      <th></th>\n",
       "      <th></th>\n",
       "      <th></th>\n",
       "      <th></th>\n",
       "      <th></th>\n",
       "      <th></th>\n",
       "    </tr>\n",
       "  </thead>\n",
       "  <tbody>\n",
       "    <tr>\n",
       "      <th>Clarence Thomas</th>\n",
       "      <td>1948-06-23</td>\n",
       "      <td>GA</td>\n",
       "      <td>M</td>\n",
       "      <td>Black</td>\n",
       "      <td>roman catholic</td>\n",
       "      <td>GA</td>\n",
       "      <td>Republican</td>\n",
       "      <td>41</td>\n",
       "      <td>52.0</td>\n",
       "      <td>48.0</td>\n",
       "      <td>1991-10-23</td>\n",
       "      <td>NaN</td>\n",
       "      <td>NaN</td>\n",
       "    </tr>\n",
       "    <tr>\n",
       "      <th>Stephen Breyer</th>\n",
       "      <td>1938-08-15</td>\n",
       "      <td>CA</td>\n",
       "      <td>M</td>\n",
       "      <td>White</td>\n",
       "      <td>jewish</td>\n",
       "      <td>MA</td>\n",
       "      <td>Democrat</td>\n",
       "      <td>42</td>\n",
       "      <td>87.0</td>\n",
       "      <td>9.0</td>\n",
       "      <td>1994-08-03</td>\n",
       "      <td>NaN</td>\n",
       "      <td>NaN</td>\n",
       "    </tr>\n",
       "    <tr>\n",
       "      <th>John Roberts</th>\n",
       "      <td>1955-01-27</td>\n",
       "      <td>NY</td>\n",
       "      <td>M</td>\n",
       "      <td>White</td>\n",
       "      <td>roman catholic</td>\n",
       "      <td>MD</td>\n",
       "      <td>Republican</td>\n",
       "      <td>43</td>\n",
       "      <td>78.0</td>\n",
       "      <td>22.0</td>\n",
       "      <td>2005-09-29</td>\n",
       "      <td>NaN</td>\n",
       "      <td>NaN</td>\n",
       "    </tr>\n",
       "    <tr>\n",
       "      <th>Samuel Alito</th>\n",
       "      <td>1950-04-01</td>\n",
       "      <td>NJ</td>\n",
       "      <td>M</td>\n",
       "      <td>White</td>\n",
       "      <td>roman catholic</td>\n",
       "      <td>NJ</td>\n",
       "      <td>Republican</td>\n",
       "      <td>43</td>\n",
       "      <td>58.0</td>\n",
       "      <td>42.0</td>\n",
       "      <td>2006-01-31</td>\n",
       "      <td>NaN</td>\n",
       "      <td>NaN</td>\n",
       "    </tr>\n",
       "    <tr>\n",
       "      <th>Sonia Sotomayor</th>\n",
       "      <td>1954-06-25</td>\n",
       "      <td>NY</td>\n",
       "      <td>F</td>\n",
       "      <td>Hispanic</td>\n",
       "      <td>roman catholic</td>\n",
       "      <td>NY</td>\n",
       "      <td>Democrat</td>\n",
       "      <td>44</td>\n",
       "      <td>68.0</td>\n",
       "      <td>31.0</td>\n",
       "      <td>2009-09-09</td>\n",
       "      <td>NaN</td>\n",
       "      <td>NaN</td>\n",
       "    </tr>\n",
       "    <tr>\n",
       "      <th>Elena Kagan</th>\n",
       "      <td>1960-04-08</td>\n",
       "      <td>NY</td>\n",
       "      <td>F</td>\n",
       "      <td>White</td>\n",
       "      <td>jewish</td>\n",
       "      <td>MA</td>\n",
       "      <td>Democrat</td>\n",
       "      <td>44</td>\n",
       "      <td>63.0</td>\n",
       "      <td>37.0</td>\n",
       "      <td>2010-08-07</td>\n",
       "      <td>NaN</td>\n",
       "      <td>NaN</td>\n",
       "    </tr>\n",
       "    <tr>\n",
       "      <th>Neil Gorsuch</th>\n",
       "      <td>1967-08-29</td>\n",
       "      <td>CO</td>\n",
       "      <td>M</td>\n",
       "      <td>White</td>\n",
       "      <td>episcopalian</td>\n",
       "      <td>CO</td>\n",
       "      <td>Republican</td>\n",
       "      <td>45</td>\n",
       "      <td>54.0</td>\n",
       "      <td>45.0</td>\n",
       "      <td>2017-04-10</td>\n",
       "      <td>NaN</td>\n",
       "      <td>NaN</td>\n",
       "    </tr>\n",
       "    <tr>\n",
       "      <th>Brett Kavanaugh</th>\n",
       "      <td>1965-02-12</td>\n",
       "      <td>DC</td>\n",
       "      <td>M</td>\n",
       "      <td>White</td>\n",
       "      <td>roman catholic</td>\n",
       "      <td>MD</td>\n",
       "      <td>Republican</td>\n",
       "      <td>45</td>\n",
       "      <td>50.0</td>\n",
       "      <td>48.0</td>\n",
       "      <td>2018-10-06</td>\n",
       "      <td>NaN</td>\n",
       "      <td>NaN</td>\n",
       "    </tr>\n",
       "    <tr>\n",
       "      <th>Amy Barrett</th>\n",
       "      <td>1972-01-28</td>\n",
       "      <td>LA</td>\n",
       "      <td>F</td>\n",
       "      <td>White</td>\n",
       "      <td>roman catholic</td>\n",
       "      <td>IN</td>\n",
       "      <td>Republican</td>\n",
       "      <td>45</td>\n",
       "      <td>52.0</td>\n",
       "      <td>48.0</td>\n",
       "      <td>2020-10-27</td>\n",
       "      <td>NaN</td>\n",
       "      <td>NaN</td>\n",
       "    </tr>\n",
       "  </tbody>\n",
       "</table>\n",
       "</div>"
      ],
      "text/plain": [
       "                 birth_date birth_st gender      race         religion state  \\\n",
       "name                                                                           \n",
       "Clarence Thomas  1948-06-23       GA      M     Black   roman catholic    GA   \n",
       "Stephen Breyer   1938-08-15       CA      M     White           jewish    MA   \n",
       "John Roberts     1955-01-27       NY      M     White   roman catholic    MD   \n",
       "Samuel Alito     1950-04-01       NJ      M     White   roman catholic    NJ   \n",
       "Sonia Sotomayor  1954-06-25       NY      F  Hispanic   roman catholic    NY   \n",
       "Elena Kagan      1960-04-08       NY      F     White           jewish    MA   \n",
       "Neil Gorsuch     1967-08-29       CO      M     White     episcopalian    CO   \n",
       "Brett Kavanaugh  1965-02-12       DC      M     White   roman catholic    MD   \n",
       "Amy Barrett      1972-01-28       LA      F     White   roman catholic    IN   \n",
       "\n",
       "                      party  president  senate_aye  senate_nay  term_start  \\\n",
       "name                                                                         \n",
       "Clarence Thomas  Republican         41        52.0        48.0  1991-10-23   \n",
       "Stephen Breyer     Democrat         42        87.0         9.0  1994-08-03   \n",
       "John Roberts     Republican         43        78.0        22.0  2005-09-29   \n",
       "Samuel Alito     Republican         43        58.0        42.0  2006-01-31   \n",
       "Sonia Sotomayor    Democrat         44        68.0        31.0  2009-09-09   \n",
       "Elena Kagan        Democrat         44        63.0        37.0  2010-08-07   \n",
       "Neil Gorsuch     Republican         45        54.0        45.0  2017-04-10   \n",
       "Brett Kavanaugh  Republican         45        50.0        48.0  2018-10-06   \n",
       "Amy Barrett      Republican         45        52.0        48.0  2020-10-27   \n",
       "\n",
       "                term_end death_date  \n",
       "name                                 \n",
       "Clarence Thomas      NaN        NaN  \n",
       "Stephen Breyer       NaN        NaN  \n",
       "John Roberts         NaN        NaN  \n",
       "Samuel Alito         NaN        NaN  \n",
       "Sonia Sotomayor      NaN        NaN  \n",
       "Elena Kagan          NaN        NaN  \n",
       "Neil Gorsuch         NaN        NaN  \n",
       "Brett Kavanaugh      NaN        NaN  \n",
       "Amy Barrett          NaN        NaN  "
      ]
     },
     "execution_count": 32,
     "metadata": {},
     "output_type": "execute_result"
    }
   ],
   "source": [
    "scotus[scotus[\"term_end\"].isna()]"
   ]
  },
  {
   "cell_type": "code",
   "execution_count": 33,
   "id": "68d6b341",
   "metadata": {},
   "outputs": [
    {
     "data": {
      "text/html": [
       "<div>\n",
       "<style scoped>\n",
       "    .dataframe tbody tr th:only-of-type {\n",
       "        vertical-align: middle;\n",
       "    }\n",
       "\n",
       "    .dataframe tbody tr th {\n",
       "        vertical-align: top;\n",
       "    }\n",
       "\n",
       "    .dataframe thead th {\n",
       "        text-align: right;\n",
       "    }\n",
       "</style>\n",
       "<table border=\"1\" class=\"dataframe\">\n",
       "  <thead>\n",
       "    <tr style=\"text-align: right;\">\n",
       "      <th></th>\n",
       "      <th>birth_date</th>\n",
       "      <th>birth_st</th>\n",
       "      <th>gender</th>\n",
       "      <th>race</th>\n",
       "      <th>religion</th>\n",
       "      <th>state</th>\n",
       "      <th>party</th>\n",
       "      <th>president</th>\n",
       "      <th>senate_aye</th>\n",
       "      <th>senate_nay</th>\n",
       "      <th>term_start</th>\n",
       "      <th>term_end</th>\n",
       "      <th>death_date</th>\n",
       "    </tr>\n",
       "    <tr>\n",
       "      <th>name</th>\n",
       "      <th></th>\n",
       "      <th></th>\n",
       "      <th></th>\n",
       "      <th></th>\n",
       "      <th></th>\n",
       "      <th></th>\n",
       "      <th></th>\n",
       "      <th></th>\n",
       "      <th></th>\n",
       "      <th></th>\n",
       "      <th></th>\n",
       "      <th></th>\n",
       "      <th></th>\n",
       "    </tr>\n",
       "  </thead>\n",
       "  <tbody>\n",
       "    <tr>\n",
       "      <th>Sandra O'Connor</th>\n",
       "      <td>1930-03-26</td>\n",
       "      <td>TX</td>\n",
       "      <td>F</td>\n",
       "      <td>White</td>\n",
       "      <td>episcopalian</td>\n",
       "      <td>AZ</td>\n",
       "      <td>Republican</td>\n",
       "      <td>40</td>\n",
       "      <td>99.0</td>\n",
       "      <td>0.0</td>\n",
       "      <td>1981-09-25</td>\n",
       "      <td>2006-01-31</td>\n",
       "      <td>NaN</td>\n",
       "    </tr>\n",
       "    <tr>\n",
       "      <th>Anthony Kennedy</th>\n",
       "      <td>1936-07-23</td>\n",
       "      <td>CA</td>\n",
       "      <td>M</td>\n",
       "      <td>White</td>\n",
       "      <td>roman catholic</td>\n",
       "      <td>CA</td>\n",
       "      <td>Republican</td>\n",
       "      <td>40</td>\n",
       "      <td>97.0</td>\n",
       "      <td>0.0</td>\n",
       "      <td>1988-02-18</td>\n",
       "      <td>2018-07-31</td>\n",
       "      <td>NaN</td>\n",
       "    </tr>\n",
       "    <tr>\n",
       "      <th>David Souter</th>\n",
       "      <td>1939-09-17</td>\n",
       "      <td>MA</td>\n",
       "      <td>M</td>\n",
       "      <td>White</td>\n",
       "      <td>episcopalian</td>\n",
       "      <td>NH</td>\n",
       "      <td>Republican</td>\n",
       "      <td>41</td>\n",
       "      <td>90.0</td>\n",
       "      <td>9.0</td>\n",
       "      <td>1990-10-09</td>\n",
       "      <td>2009-06-30</td>\n",
       "      <td>NaN</td>\n",
       "    </tr>\n",
       "    <tr>\n",
       "      <th>Clarence Thomas</th>\n",
       "      <td>1948-06-23</td>\n",
       "      <td>GA</td>\n",
       "      <td>M</td>\n",
       "      <td>Black</td>\n",
       "      <td>roman catholic</td>\n",
       "      <td>GA</td>\n",
       "      <td>Republican</td>\n",
       "      <td>41</td>\n",
       "      <td>52.0</td>\n",
       "      <td>48.0</td>\n",
       "      <td>1991-10-23</td>\n",
       "      <td>NaN</td>\n",
       "      <td>NaN</td>\n",
       "    </tr>\n",
       "    <tr>\n",
       "      <th>Stephen Breyer</th>\n",
       "      <td>1938-08-15</td>\n",
       "      <td>CA</td>\n",
       "      <td>M</td>\n",
       "      <td>White</td>\n",
       "      <td>jewish</td>\n",
       "      <td>MA</td>\n",
       "      <td>Democrat</td>\n",
       "      <td>42</td>\n",
       "      <td>87.0</td>\n",
       "      <td>9.0</td>\n",
       "      <td>1994-08-03</td>\n",
       "      <td>NaN</td>\n",
       "      <td>NaN</td>\n",
       "    </tr>\n",
       "    <tr>\n",
       "      <th>John Roberts</th>\n",
       "      <td>1955-01-27</td>\n",
       "      <td>NY</td>\n",
       "      <td>M</td>\n",
       "      <td>White</td>\n",
       "      <td>roman catholic</td>\n",
       "      <td>MD</td>\n",
       "      <td>Republican</td>\n",
       "      <td>43</td>\n",
       "      <td>78.0</td>\n",
       "      <td>22.0</td>\n",
       "      <td>2005-09-29</td>\n",
       "      <td>NaN</td>\n",
       "      <td>NaN</td>\n",
       "    </tr>\n",
       "    <tr>\n",
       "      <th>Samuel Alito</th>\n",
       "      <td>1950-04-01</td>\n",
       "      <td>NJ</td>\n",
       "      <td>M</td>\n",
       "      <td>White</td>\n",
       "      <td>roman catholic</td>\n",
       "      <td>NJ</td>\n",
       "      <td>Republican</td>\n",
       "      <td>43</td>\n",
       "      <td>58.0</td>\n",
       "      <td>42.0</td>\n",
       "      <td>2006-01-31</td>\n",
       "      <td>NaN</td>\n",
       "      <td>NaN</td>\n",
       "    </tr>\n",
       "    <tr>\n",
       "      <th>Sonia Sotomayor</th>\n",
       "      <td>1954-06-25</td>\n",
       "      <td>NY</td>\n",
       "      <td>F</td>\n",
       "      <td>Hispanic</td>\n",
       "      <td>roman catholic</td>\n",
       "      <td>NY</td>\n",
       "      <td>Democrat</td>\n",
       "      <td>44</td>\n",
       "      <td>68.0</td>\n",
       "      <td>31.0</td>\n",
       "      <td>2009-09-09</td>\n",
       "      <td>NaN</td>\n",
       "      <td>NaN</td>\n",
       "    </tr>\n",
       "    <tr>\n",
       "      <th>Elena Kagan</th>\n",
       "      <td>1960-04-08</td>\n",
       "      <td>NY</td>\n",
       "      <td>F</td>\n",
       "      <td>White</td>\n",
       "      <td>jewish</td>\n",
       "      <td>MA</td>\n",
       "      <td>Democrat</td>\n",
       "      <td>44</td>\n",
       "      <td>63.0</td>\n",
       "      <td>37.0</td>\n",
       "      <td>2010-08-07</td>\n",
       "      <td>NaN</td>\n",
       "      <td>NaN</td>\n",
       "    </tr>\n",
       "    <tr>\n",
       "      <th>Neil Gorsuch</th>\n",
       "      <td>1967-08-29</td>\n",
       "      <td>CO</td>\n",
       "      <td>M</td>\n",
       "      <td>White</td>\n",
       "      <td>episcopalian</td>\n",
       "      <td>CO</td>\n",
       "      <td>Republican</td>\n",
       "      <td>45</td>\n",
       "      <td>54.0</td>\n",
       "      <td>45.0</td>\n",
       "      <td>2017-04-10</td>\n",
       "      <td>NaN</td>\n",
       "      <td>NaN</td>\n",
       "    </tr>\n",
       "    <tr>\n",
       "      <th>Brett Kavanaugh</th>\n",
       "      <td>1965-02-12</td>\n",
       "      <td>DC</td>\n",
       "      <td>M</td>\n",
       "      <td>White</td>\n",
       "      <td>roman catholic</td>\n",
       "      <td>MD</td>\n",
       "      <td>Republican</td>\n",
       "      <td>45</td>\n",
       "      <td>50.0</td>\n",
       "      <td>48.0</td>\n",
       "      <td>2018-10-06</td>\n",
       "      <td>NaN</td>\n",
       "      <td>NaN</td>\n",
       "    </tr>\n",
       "    <tr>\n",
       "      <th>Amy Barrett</th>\n",
       "      <td>1972-01-28</td>\n",
       "      <td>LA</td>\n",
       "      <td>F</td>\n",
       "      <td>White</td>\n",
       "      <td>roman catholic</td>\n",
       "      <td>IN</td>\n",
       "      <td>Republican</td>\n",
       "      <td>45</td>\n",
       "      <td>52.0</td>\n",
       "      <td>48.0</td>\n",
       "      <td>2020-10-27</td>\n",
       "      <td>NaN</td>\n",
       "      <td>NaN</td>\n",
       "    </tr>\n",
       "  </tbody>\n",
       "</table>\n",
       "</div>"
      ],
      "text/plain": [
       "                 birth_date birth_st gender      race         religion state  \\\n",
       "name                                                                           \n",
       "Sandra O'Connor  1930-03-26       TX      F     White     episcopalian    AZ   \n",
       "Anthony Kennedy  1936-07-23       CA      M     White   roman catholic    CA   \n",
       "David Souter     1939-09-17       MA      M     White     episcopalian    NH   \n",
       "Clarence Thomas  1948-06-23       GA      M     Black   roman catholic    GA   \n",
       "Stephen Breyer   1938-08-15       CA      M     White           jewish    MA   \n",
       "John Roberts     1955-01-27       NY      M     White   roman catholic    MD   \n",
       "Samuel Alito     1950-04-01       NJ      M     White   roman catholic    NJ   \n",
       "Sonia Sotomayor  1954-06-25       NY      F  Hispanic   roman catholic    NY   \n",
       "Elena Kagan      1960-04-08       NY      F     White           jewish    MA   \n",
       "Neil Gorsuch     1967-08-29       CO      M     White     episcopalian    CO   \n",
       "Brett Kavanaugh  1965-02-12       DC      M     White   roman catholic    MD   \n",
       "Amy Barrett      1972-01-28       LA      F     White   roman catholic    IN   \n",
       "\n",
       "                      party  president  senate_aye  senate_nay  term_start  \\\n",
       "name                                                                         \n",
       "Sandra O'Connor  Republican         40        99.0         0.0  1981-09-25   \n",
       "Anthony Kennedy  Republican         40        97.0         0.0  1988-02-18   \n",
       "David Souter     Republican         41        90.0         9.0  1990-10-09   \n",
       "Clarence Thomas  Republican         41        52.0        48.0  1991-10-23   \n",
       "Stephen Breyer     Democrat         42        87.0         9.0  1994-08-03   \n",
       "John Roberts     Republican         43        78.0        22.0  2005-09-29   \n",
       "Samuel Alito     Republican         43        58.0        42.0  2006-01-31   \n",
       "Sonia Sotomayor    Democrat         44        68.0        31.0  2009-09-09   \n",
       "Elena Kagan        Democrat         44        63.0        37.0  2010-08-07   \n",
       "Neil Gorsuch     Republican         45        54.0        45.0  2017-04-10   \n",
       "Brett Kavanaugh  Republican         45        50.0        48.0  2018-10-06   \n",
       "Amy Barrett      Republican         45        52.0        48.0  2020-10-27   \n",
       "\n",
       "                   term_end death_date  \n",
       "name                                    \n",
       "Sandra O'Connor  2006-01-31        NaN  \n",
       "Anthony Kennedy  2018-07-31        NaN  \n",
       "David Souter     2009-06-30        NaN  \n",
       "Clarence Thomas         NaN        NaN  \n",
       "Stephen Breyer          NaN        NaN  \n",
       "John Roberts            NaN        NaN  \n",
       "Samuel Alito            NaN        NaN  \n",
       "Sonia Sotomayor         NaN        NaN  \n",
       "Elena Kagan             NaN        NaN  \n",
       "Neil Gorsuch            NaN        NaN  \n",
       "Brett Kavanaugh         NaN        NaN  \n",
       "Amy Barrett             NaN        NaN  "
      ]
     },
     "execution_count": 33,
     "metadata": {},
     "output_type": "execute_result"
    }
   ],
   "source": [
    "scotus[scotus[\"death_date\"].isna()]"
   ]
  },
  {
   "cell_type": "markdown",
   "id": "bb1e7eb7",
   "metadata": {},
   "source": [
    "- Since some of the values within the ```term_end``` and ```death_date``` columns have a float value of ```nan```, return it as ```Nat``` (```datetime``` specific) to block the function from throwing an error"
   ]
  },
  {
   "cell_type": "code",
   "execution_count": 34,
   "id": "2c5b388c",
   "metadata": {},
   "outputs": [],
   "source": [
    "def get_year(date):\n",
    "    try:\n",
    "        whole_date = datetime.datetime.fromisoformat(date)\n",
    "        year = whole_date.year\n",
    "        return year\n",
    "    except:\n",
    "        return pd.NaT\n",
    "    \n",
    "def get_month(date):\n",
    "    try:\n",
    "        whole_date = datetime.datetime.fromisoformat(date)\n",
    "        month = whole_date.month\n",
    "        return month\n",
    "    except:\n",
    "        return pd.NaT\n",
    "\n",
    "def get_day(date):\n",
    "    try:\n",
    "        whole_date = datetime.datetime.fromisoformat(date)\n",
    "        day = whole_date.day\n",
    "        return day\n",
    "    except:\n",
    "        return pd.NaT"
   ]
  },
  {
   "cell_type": "markdown",
   "id": "a728e262",
   "metadata": {},
   "source": [
    "##### 4.3: Test the function"
   ]
  },
  {
   "cell_type": "code",
   "execution_count": 35,
   "id": "f4a84880",
   "metadata": {},
   "outputs": [
    {
     "data": {
      "text/plain": [
       "(1762, 6, 5)"
      ]
     },
     "execution_count": 35,
     "metadata": {},
     "output_type": "execute_result"
    }
   ],
   "source": [
    "get_year(\"1762-06-05\"), get_month(\"1762-06-05\"), get_day(\"1762-06-05\")"
   ]
  },
  {
   "cell_type": "code",
   "execution_count": 36,
   "id": "8fcbbaa5",
   "metadata": {},
   "outputs": [
    {
     "data": {
      "text/plain": [
       "(NaT, NaT, NaT)"
      ]
     },
     "execution_count": 36,
     "metadata": {},
     "output_type": "execute_result"
    }
   ],
   "source": [
    "get_year(float(\"nan\")), get_month(float(\"nan\")), get_day(float(\"nan\"))"
   ]
  },
  {
   "cell_type": "markdown",
   "id": "ff0b9b94",
   "metadata": {},
   "source": [
    "##### 4.4: Apply the function the columns from the above task"
   ]
  },
  {
   "cell_type": "code",
   "execution_count": 37,
   "id": "026f6cd4",
   "metadata": {},
   "outputs": [],
   "source": [
    "scotus = scotus.assign(birth_year = scotus.get('birth_date').apply(get_year),\n",
    "                       birth_month = scotus.get('birth_date').apply(get_month),\n",
    "                       birth_day = scotus.get('birth_date').apply(get_day)\n",
    "                      )\n",
    "\n",
    "scotus = scotus.assign(term_start_year = scotus.get('term_start').apply(get_year),\n",
    "                       term_start_month = scotus.get('term_start').apply(get_month),\n",
    "                       term_start_day = scotus.get('term_start').apply(get_day)\n",
    "                      )\n",
    "\n",
    "scotus = scotus.assign(term_end_year = scotus.get('term_end').apply(get_year),\n",
    "                       term_end_month = scotus.get('term_end').apply(get_month),\n",
    "                       term_end_day = scotus.get('term_end').apply(get_day)\n",
    "                      )\n",
    "\n",
    "scotus = scotus.assign(death_year = scotus.get('death_date').apply(get_year),\n",
    "                       death_month = scotus.get('death_date').apply(get_month),\n",
    "                       death_day = scotus.get('death_date').apply(get_day)\n",
    "                      )"
   ]
  },
  {
   "cell_type": "code",
   "execution_count": 38,
   "id": "afcfbfcb",
   "metadata": {},
   "outputs": [
    {
     "data": {
      "text/html": [
       "<div>\n",
       "<style scoped>\n",
       "    .dataframe tbody tr th:only-of-type {\n",
       "        vertical-align: middle;\n",
       "    }\n",
       "\n",
       "    .dataframe tbody tr th {\n",
       "        vertical-align: top;\n",
       "    }\n",
       "\n",
       "    .dataframe thead th {\n",
       "        text-align: right;\n",
       "    }\n",
       "</style>\n",
       "<table border=\"1\" class=\"dataframe\">\n",
       "  <thead>\n",
       "    <tr style=\"text-align: right;\">\n",
       "      <th></th>\n",
       "      <th>birth_date</th>\n",
       "      <th>birth_st</th>\n",
       "      <th>gender</th>\n",
       "      <th>race</th>\n",
       "      <th>religion</th>\n",
       "      <th>state</th>\n",
       "      <th>party</th>\n",
       "      <th>president</th>\n",
       "      <th>senate_aye</th>\n",
       "      <th>senate_nay</th>\n",
       "      <th>...</th>\n",
       "      <th>birth_day</th>\n",
       "      <th>term_start_year</th>\n",
       "      <th>term_start_month</th>\n",
       "      <th>term_start_day</th>\n",
       "      <th>term_end_year</th>\n",
       "      <th>term_end_month</th>\n",
       "      <th>term_end_day</th>\n",
       "      <th>death_year</th>\n",
       "      <th>death_month</th>\n",
       "      <th>death_day</th>\n",
       "    </tr>\n",
       "    <tr>\n",
       "      <th>name</th>\n",
       "      <th></th>\n",
       "      <th></th>\n",
       "      <th></th>\n",
       "      <th></th>\n",
       "      <th></th>\n",
       "      <th></th>\n",
       "      <th></th>\n",
       "      <th></th>\n",
       "      <th></th>\n",
       "      <th></th>\n",
       "      <th></th>\n",
       "      <th></th>\n",
       "      <th></th>\n",
       "      <th></th>\n",
       "      <th></th>\n",
       "      <th></th>\n",
       "      <th></th>\n",
       "      <th></th>\n",
       "      <th></th>\n",
       "      <th></th>\n",
       "      <th></th>\n",
       "    </tr>\n",
       "  </thead>\n",
       "  <tbody>\n",
       "    <tr>\n",
       "      <th>Howell Jackson</th>\n",
       "      <td>1832-04-08</td>\n",
       "      <td>TN</td>\n",
       "      <td>M</td>\n",
       "      <td>White</td>\n",
       "      <td>baptist</td>\n",
       "      <td>TN</td>\n",
       "      <td>Democrat</td>\n",
       "      <td>23</td>\n",
       "      <td>NaN</td>\n",
       "      <td>NaN</td>\n",
       "      <td>...</td>\n",
       "      <td>8</td>\n",
       "      <td>1893</td>\n",
       "      <td>3</td>\n",
       "      <td>4</td>\n",
       "      <td>1895</td>\n",
       "      <td>8</td>\n",
       "      <td>8</td>\n",
       "      <td>1895</td>\n",
       "      <td>8</td>\n",
       "      <td>8</td>\n",
       "    </tr>\n",
       "  </tbody>\n",
       "</table>\n",
       "<p>1 rows × 25 columns</p>\n",
       "</div>"
      ],
      "text/plain": [
       "                birth_date birth_st gender   race religion state     party  \\\n",
       "name                                                                         \n",
       "Howell Jackson  1832-04-08       TN      M  White  baptist    TN  Democrat   \n",
       "\n",
       "                president  senate_aye  senate_nay  ... birth_day  \\\n",
       "name                                               ...             \n",
       "Howell Jackson         23         NaN         NaN  ...         8   \n",
       "\n",
       "               term_start_year term_start_month  term_start_day  \\\n",
       "name                                                              \n",
       "Howell Jackson            1893                3               4   \n",
       "\n",
       "                term_end_year  term_end_month  term_end_day  death_year  \\\n",
       "name                                                                      \n",
       "Howell Jackson           1895               8             8        1895   \n",
       "\n",
       "                death_month death_day  \n",
       "name                                   \n",
       "Howell Jackson            8         8  \n",
       "\n",
       "[1 rows x 25 columns]"
      ]
     },
     "execution_count": 38,
     "metadata": {},
     "output_type": "execute_result"
    }
   ],
   "source": [
    "scotus.sample()"
   ]
  },
  {
   "cell_type": "markdown",
   "id": "93430dcf",
   "metadata": {},
   "source": [
    "##### 4.6: Convert the ```null``` values for ```term_end``` and ```death_date``` related columns to ```nan```"
   ]
  },
  {
   "cell_type": "code",
   "execution_count": 39,
   "id": "c50b1acf",
   "metadata": {},
   "outputs": [],
   "source": [
    "null_columns = [\"term_end\", \"term_end_year\", \"term_end_month\", \"term_end_day\", \n",
    "                \"death_date\", \"death_year\", \"death_month\", \"death_day\"]"
   ]
  },
  {
   "cell_type": "code",
   "execution_count": 40,
   "id": "ac57e198",
   "metadata": {},
   "outputs": [],
   "source": [
    "for i in null_columns:\n",
    "    scotus[i] = scotus[i].fillna(\"nan\")"
   ]
  },
  {
   "cell_type": "code",
   "execution_count": 41,
   "id": "35014650",
   "metadata": {},
   "outputs": [
    {
     "data": {
      "text/html": [
       "<div>\n",
       "<style scoped>\n",
       "    .dataframe tbody tr th:only-of-type {\n",
       "        vertical-align: middle;\n",
       "    }\n",
       "\n",
       "    .dataframe tbody tr th {\n",
       "        vertical-align: top;\n",
       "    }\n",
       "\n",
       "    .dataframe thead th {\n",
       "        text-align: right;\n",
       "    }\n",
       "</style>\n",
       "<table border=\"1\" class=\"dataframe\">\n",
       "  <thead>\n",
       "    <tr style=\"text-align: right;\">\n",
       "      <th></th>\n",
       "      <th>birth_date</th>\n",
       "      <th>birth_st</th>\n",
       "      <th>gender</th>\n",
       "      <th>race</th>\n",
       "      <th>religion</th>\n",
       "      <th>state</th>\n",
       "      <th>party</th>\n",
       "      <th>president</th>\n",
       "      <th>senate_aye</th>\n",
       "      <th>senate_nay</th>\n",
       "      <th>...</th>\n",
       "      <th>birth_day</th>\n",
       "      <th>term_start_year</th>\n",
       "      <th>term_start_month</th>\n",
       "      <th>term_start_day</th>\n",
       "      <th>term_end_year</th>\n",
       "      <th>term_end_month</th>\n",
       "      <th>term_end_day</th>\n",
       "      <th>death_year</th>\n",
       "      <th>death_month</th>\n",
       "      <th>death_day</th>\n",
       "    </tr>\n",
       "    <tr>\n",
       "      <th>name</th>\n",
       "      <th></th>\n",
       "      <th></th>\n",
       "      <th></th>\n",
       "      <th></th>\n",
       "      <th></th>\n",
       "      <th></th>\n",
       "      <th></th>\n",
       "      <th></th>\n",
       "      <th></th>\n",
       "      <th></th>\n",
       "      <th></th>\n",
       "      <th></th>\n",
       "      <th></th>\n",
       "      <th></th>\n",
       "      <th></th>\n",
       "      <th></th>\n",
       "      <th></th>\n",
       "      <th></th>\n",
       "      <th></th>\n",
       "      <th></th>\n",
       "      <th></th>\n",
       "    </tr>\n",
       "  </thead>\n",
       "  <tbody>\n",
       "    <tr>\n",
       "      <th>Clarence Thomas</th>\n",
       "      <td>1948-06-23</td>\n",
       "      <td>GA</td>\n",
       "      <td>M</td>\n",
       "      <td>Black</td>\n",
       "      <td>roman catholic</td>\n",
       "      <td>GA</td>\n",
       "      <td>Republican</td>\n",
       "      <td>41</td>\n",
       "      <td>52.0</td>\n",
       "      <td>48.0</td>\n",
       "      <td>...</td>\n",
       "      <td>23</td>\n",
       "      <td>1991</td>\n",
       "      <td>10</td>\n",
       "      <td>23</td>\n",
       "      <td>nan</td>\n",
       "      <td>nan</td>\n",
       "      <td>nan</td>\n",
       "      <td>nan</td>\n",
       "      <td>nan</td>\n",
       "      <td>nan</td>\n",
       "    </tr>\n",
       "    <tr>\n",
       "      <th>Stephen Breyer</th>\n",
       "      <td>1938-08-15</td>\n",
       "      <td>CA</td>\n",
       "      <td>M</td>\n",
       "      <td>White</td>\n",
       "      <td>jewish</td>\n",
       "      <td>MA</td>\n",
       "      <td>Democrat</td>\n",
       "      <td>42</td>\n",
       "      <td>87.0</td>\n",
       "      <td>9.0</td>\n",
       "      <td>...</td>\n",
       "      <td>15</td>\n",
       "      <td>1994</td>\n",
       "      <td>8</td>\n",
       "      <td>3</td>\n",
       "      <td>nan</td>\n",
       "      <td>nan</td>\n",
       "      <td>nan</td>\n",
       "      <td>nan</td>\n",
       "      <td>nan</td>\n",
       "      <td>nan</td>\n",
       "    </tr>\n",
       "    <tr>\n",
       "      <th>John Roberts</th>\n",
       "      <td>1955-01-27</td>\n",
       "      <td>NY</td>\n",
       "      <td>M</td>\n",
       "      <td>White</td>\n",
       "      <td>roman catholic</td>\n",
       "      <td>MD</td>\n",
       "      <td>Republican</td>\n",
       "      <td>43</td>\n",
       "      <td>78.0</td>\n",
       "      <td>22.0</td>\n",
       "      <td>...</td>\n",
       "      <td>27</td>\n",
       "      <td>2005</td>\n",
       "      <td>9</td>\n",
       "      <td>29</td>\n",
       "      <td>nan</td>\n",
       "      <td>nan</td>\n",
       "      <td>nan</td>\n",
       "      <td>nan</td>\n",
       "      <td>nan</td>\n",
       "      <td>nan</td>\n",
       "    </tr>\n",
       "    <tr>\n",
       "      <th>Samuel Alito</th>\n",
       "      <td>1950-04-01</td>\n",
       "      <td>NJ</td>\n",
       "      <td>M</td>\n",
       "      <td>White</td>\n",
       "      <td>roman catholic</td>\n",
       "      <td>NJ</td>\n",
       "      <td>Republican</td>\n",
       "      <td>43</td>\n",
       "      <td>58.0</td>\n",
       "      <td>42.0</td>\n",
       "      <td>...</td>\n",
       "      <td>1</td>\n",
       "      <td>2006</td>\n",
       "      <td>1</td>\n",
       "      <td>31</td>\n",
       "      <td>nan</td>\n",
       "      <td>nan</td>\n",
       "      <td>nan</td>\n",
       "      <td>nan</td>\n",
       "      <td>nan</td>\n",
       "      <td>nan</td>\n",
       "    </tr>\n",
       "    <tr>\n",
       "      <th>Sonia Sotomayor</th>\n",
       "      <td>1954-06-25</td>\n",
       "      <td>NY</td>\n",
       "      <td>F</td>\n",
       "      <td>Hispanic</td>\n",
       "      <td>roman catholic</td>\n",
       "      <td>NY</td>\n",
       "      <td>Democrat</td>\n",
       "      <td>44</td>\n",
       "      <td>68.0</td>\n",
       "      <td>31.0</td>\n",
       "      <td>...</td>\n",
       "      <td>25</td>\n",
       "      <td>2009</td>\n",
       "      <td>9</td>\n",
       "      <td>9</td>\n",
       "      <td>nan</td>\n",
       "      <td>nan</td>\n",
       "      <td>nan</td>\n",
       "      <td>nan</td>\n",
       "      <td>nan</td>\n",
       "      <td>nan</td>\n",
       "    </tr>\n",
       "    <tr>\n",
       "      <th>Elena Kagan</th>\n",
       "      <td>1960-04-08</td>\n",
       "      <td>NY</td>\n",
       "      <td>F</td>\n",
       "      <td>White</td>\n",
       "      <td>jewish</td>\n",
       "      <td>MA</td>\n",
       "      <td>Democrat</td>\n",
       "      <td>44</td>\n",
       "      <td>63.0</td>\n",
       "      <td>37.0</td>\n",
       "      <td>...</td>\n",
       "      <td>8</td>\n",
       "      <td>2010</td>\n",
       "      <td>8</td>\n",
       "      <td>7</td>\n",
       "      <td>nan</td>\n",
       "      <td>nan</td>\n",
       "      <td>nan</td>\n",
       "      <td>nan</td>\n",
       "      <td>nan</td>\n",
       "      <td>nan</td>\n",
       "    </tr>\n",
       "    <tr>\n",
       "      <th>Neil Gorsuch</th>\n",
       "      <td>1967-08-29</td>\n",
       "      <td>CO</td>\n",
       "      <td>M</td>\n",
       "      <td>White</td>\n",
       "      <td>episcopalian</td>\n",
       "      <td>CO</td>\n",
       "      <td>Republican</td>\n",
       "      <td>45</td>\n",
       "      <td>54.0</td>\n",
       "      <td>45.0</td>\n",
       "      <td>...</td>\n",
       "      <td>29</td>\n",
       "      <td>2017</td>\n",
       "      <td>4</td>\n",
       "      <td>10</td>\n",
       "      <td>nan</td>\n",
       "      <td>nan</td>\n",
       "      <td>nan</td>\n",
       "      <td>nan</td>\n",
       "      <td>nan</td>\n",
       "      <td>nan</td>\n",
       "    </tr>\n",
       "    <tr>\n",
       "      <th>Brett Kavanaugh</th>\n",
       "      <td>1965-02-12</td>\n",
       "      <td>DC</td>\n",
       "      <td>M</td>\n",
       "      <td>White</td>\n",
       "      <td>roman catholic</td>\n",
       "      <td>MD</td>\n",
       "      <td>Republican</td>\n",
       "      <td>45</td>\n",
       "      <td>50.0</td>\n",
       "      <td>48.0</td>\n",
       "      <td>...</td>\n",
       "      <td>12</td>\n",
       "      <td>2018</td>\n",
       "      <td>10</td>\n",
       "      <td>6</td>\n",
       "      <td>nan</td>\n",
       "      <td>nan</td>\n",
       "      <td>nan</td>\n",
       "      <td>nan</td>\n",
       "      <td>nan</td>\n",
       "      <td>nan</td>\n",
       "    </tr>\n",
       "    <tr>\n",
       "      <th>Amy Barrett</th>\n",
       "      <td>1972-01-28</td>\n",
       "      <td>LA</td>\n",
       "      <td>F</td>\n",
       "      <td>White</td>\n",
       "      <td>roman catholic</td>\n",
       "      <td>IN</td>\n",
       "      <td>Republican</td>\n",
       "      <td>45</td>\n",
       "      <td>52.0</td>\n",
       "      <td>48.0</td>\n",
       "      <td>...</td>\n",
       "      <td>28</td>\n",
       "      <td>2020</td>\n",
       "      <td>10</td>\n",
       "      <td>27</td>\n",
       "      <td>nan</td>\n",
       "      <td>nan</td>\n",
       "      <td>nan</td>\n",
       "      <td>nan</td>\n",
       "      <td>nan</td>\n",
       "      <td>nan</td>\n",
       "    </tr>\n",
       "  </tbody>\n",
       "</table>\n",
       "<p>9 rows × 25 columns</p>\n",
       "</div>"
      ],
      "text/plain": [
       "                 birth_date birth_st gender      race         religion state  \\\n",
       "name                                                                           \n",
       "Clarence Thomas  1948-06-23       GA      M     Black   roman catholic    GA   \n",
       "Stephen Breyer   1938-08-15       CA      M     White           jewish    MA   \n",
       "John Roberts     1955-01-27       NY      M     White   roman catholic    MD   \n",
       "Samuel Alito     1950-04-01       NJ      M     White   roman catholic    NJ   \n",
       "Sonia Sotomayor  1954-06-25       NY      F  Hispanic   roman catholic    NY   \n",
       "Elena Kagan      1960-04-08       NY      F     White           jewish    MA   \n",
       "Neil Gorsuch     1967-08-29       CO      M     White     episcopalian    CO   \n",
       "Brett Kavanaugh  1965-02-12       DC      M     White   roman catholic    MD   \n",
       "Amy Barrett      1972-01-28       LA      F     White   roman catholic    IN   \n",
       "\n",
       "                      party  president  senate_aye  senate_nay  ... birth_day  \\\n",
       "name                                                            ...             \n",
       "Clarence Thomas  Republican         41        52.0        48.0  ...        23   \n",
       "Stephen Breyer     Democrat         42        87.0         9.0  ...        15   \n",
       "John Roberts     Republican         43        78.0        22.0  ...        27   \n",
       "Samuel Alito     Republican         43        58.0        42.0  ...         1   \n",
       "Sonia Sotomayor    Democrat         44        68.0        31.0  ...        25   \n",
       "Elena Kagan        Democrat         44        63.0        37.0  ...         8   \n",
       "Neil Gorsuch     Republican         45        54.0        45.0  ...        29   \n",
       "Brett Kavanaugh  Republican         45        50.0        48.0  ...        12   \n",
       "Amy Barrett      Republican         45        52.0        48.0  ...        28   \n",
       "\n",
       "                term_start_year term_start_month  term_start_day  \\\n",
       "name                                                               \n",
       "Clarence Thomas            1991               10              23   \n",
       "Stephen Breyer             1994                8               3   \n",
       "John Roberts               2005                9              29   \n",
       "Samuel Alito               2006                1              31   \n",
       "Sonia Sotomayor            2009                9               9   \n",
       "Elena Kagan                2010                8               7   \n",
       "Neil Gorsuch               2017                4              10   \n",
       "Brett Kavanaugh            2018               10               6   \n",
       "Amy Barrett                2020               10              27   \n",
       "\n",
       "                 term_end_year  term_end_month  term_end_day  death_year  \\\n",
       "name                                                                       \n",
       "Clarence Thomas            nan             nan           nan         nan   \n",
       "Stephen Breyer             nan             nan           nan         nan   \n",
       "John Roberts               nan             nan           nan         nan   \n",
       "Samuel Alito               nan             nan           nan         nan   \n",
       "Sonia Sotomayor            nan             nan           nan         nan   \n",
       "Elena Kagan                nan             nan           nan         nan   \n",
       "Neil Gorsuch               nan             nan           nan         nan   \n",
       "Brett Kavanaugh            nan             nan           nan         nan   \n",
       "Amy Barrett                nan             nan           nan         nan   \n",
       "\n",
       "                 death_month death_day  \n",
       "name                                    \n",
       "Clarence Thomas          nan       nan  \n",
       "Stephen Breyer           nan       nan  \n",
       "John Roberts             nan       nan  \n",
       "Samuel Alito             nan       nan  \n",
       "Sonia Sotomayor          nan       nan  \n",
       "Elena Kagan              nan       nan  \n",
       "Neil Gorsuch             nan       nan  \n",
       "Brett Kavanaugh          nan       nan  \n",
       "Amy Barrett              nan       nan  \n",
       "\n",
       "[9 rows x 25 columns]"
      ]
     },
     "execution_count": 41,
     "metadata": {},
     "output_type": "execute_result"
    }
   ],
   "source": [
    "scotus[scotus[\"term_end_day\"] == \"nan\"]"
   ]
  },
  {
   "cell_type": "markdown",
   "id": "6347d996",
   "metadata": {},
   "source": [
    "##### 4.5: Convert ```birth_month```, ```term_start_month```, ```term_end_month```, and ```death_day``` number values to name values"
   ]
  },
  {
   "cell_type": "code",
   "execution_count": 42,
   "id": "7c14aeac",
   "metadata": {},
   "outputs": [],
   "source": [
    "months_code = {1: \"January\", 2: \"February\", 3: \"March\", 4: \"April\", 5: \"May\", 6: \"June\",\n",
    "          7: \"July\", 8: \"August\", 9: \"September\", 10: \"October\", 11: \"November\", \n",
    "          12: \"December\", \"nan\": \"nan\"}"
   ]
  },
  {
   "cell_type": "code",
   "execution_count": 43,
   "id": "89bd78ba",
   "metadata": {},
   "outputs": [],
   "source": [
    "def code_to_months(code):\n",
    "    return months_code[code]"
   ]
  },
  {
   "cell_type": "code",
   "execution_count": 44,
   "id": "93e3e3fc",
   "metadata": {},
   "outputs": [
    {
     "data": {
      "text/plain": [
       "'July'"
      ]
     },
     "execution_count": 44,
     "metadata": {},
     "output_type": "execute_result"
    }
   ],
   "source": [
    "code_to_months(7)"
   ]
  },
  {
   "cell_type": "code",
   "execution_count": 45,
   "id": "55d77434",
   "metadata": {},
   "outputs": [
    {
     "data": {
      "text/plain": [
       "'nan'"
      ]
     },
     "execution_count": 45,
     "metadata": {},
     "output_type": "execute_result"
    }
   ],
   "source": [
    "code_to_months(\"nan\")"
   ]
  },
  {
   "cell_type": "code",
   "execution_count": 46,
   "id": "e423d36e",
   "metadata": {},
   "outputs": [],
   "source": [
    "month_columns = [\"birth_month\", \"term_start_month\", \"term_end_month\"]"
   ]
  },
  {
   "cell_type": "code",
   "execution_count": 47,
   "id": "ad486371",
   "metadata": {},
   "outputs": [
    {
     "name": "stdout",
     "output_type": "stream",
     "text": [
      "birth_month ['December' 'September' 'March' 'April' 'October' 'November' 'June' 'May'\n",
      " 'January' 'August' 'July' 'February']  \n",
      "term_start_month ['October' 'February' 'May' 'September' 'March' 'August' 'November'\n",
      " 'April' 'January' 'June' 'July' 'December']  \n",
      "term_end_month ['June' 'March' 'September' 'August' 'January' 'October' 'December'\n",
      " 'November' 'July' 'February' 'April' 'May' 'nan']  \n"
     ]
    }
   ],
   "source": [
    "for i in month_columns:\n",
    "    scotus[i] = scotus[i].apply(code_to_months)\n",
    "    print(i, scotus[i].unique(), \" \")"
   ]
  },
  {
   "cell_type": "markdown",
   "id": "6370f5a4",
   "metadata": {},
   "source": [
    "**---------------------------------------------------------------------------------------------------------------------------------------**"
   ]
  },
  {
   "cell_type": "markdown",
   "id": "d23a1788",
   "metadata": {},
   "source": [
    "**Task 5: Reorder the columns**"
   ]
  },
  {
   "cell_type": "code",
   "execution_count": 48,
   "id": "fa800269",
   "metadata": {},
   "outputs": [
    {
     "data": {
      "text/plain": [
       "['birth_date',\n",
       " 'birth_st',\n",
       " 'gender',\n",
       " 'race',\n",
       " 'religion',\n",
       " 'state',\n",
       " 'party',\n",
       " 'president',\n",
       " 'senate_aye',\n",
       " 'senate_nay',\n",
       " 'term_start',\n",
       " 'term_end',\n",
       " 'death_date',\n",
       " 'birth_year',\n",
       " 'birth_month',\n",
       " 'birth_day',\n",
       " 'term_start_year',\n",
       " 'term_start_month',\n",
       " 'term_start_day',\n",
       " 'term_end_year',\n",
       " 'term_end_month',\n",
       " 'term_end_day',\n",
       " 'death_year',\n",
       " 'death_month',\n",
       " 'death_day']"
      ]
     },
     "execution_count": 48,
     "metadata": {},
     "output_type": "execute_result"
    }
   ],
   "source": [
    "cols = scotus.columns.tolist()\n",
    "cols"
   ]
  },
  {
   "cell_type": "code",
   "execution_count": 49,
   "id": "01073075",
   "metadata": {},
   "outputs": [
    {
     "data": {
      "text/plain": [
       "25"
      ]
     },
     "execution_count": 49,
     "metadata": {},
     "output_type": "execute_result"
    }
   ],
   "source": [
    "len(cols)"
   ]
  },
  {
   "cell_type": "code",
   "execution_count": 50,
   "id": "40b26135",
   "metadata": {},
   "outputs": [],
   "source": [
    "new_cols = ['birth_date', 'birth_year', 'birth_month', 'birth_day',\n",
    "            'birth_st', 'gender', 'race', 'religion', 'state', 'party', 'president', 'senate_aye', 'senate_nay', \n",
    "            'term_start', 'term_start_year', 'term_start_month', 'term_start_day',  \n",
    "            'term_end', 'term_end_year', 'term_end_month', 'term_end_day',\n",
    "            'death_date', 'death_year', 'death_month', 'death_day']"
   ]
  },
  {
   "cell_type": "code",
   "execution_count": 51,
   "id": "f758e59e",
   "metadata": {},
   "outputs": [
    {
     "data": {
      "text/plain": [
       "25"
      ]
     },
     "execution_count": 51,
     "metadata": {},
     "output_type": "execute_result"
    }
   ],
   "source": [
    "len(new_cols)"
   ]
  },
  {
   "cell_type": "code",
   "execution_count": 52,
   "id": "e3b3bfac",
   "metadata": {},
   "outputs": [],
   "source": [
    "scotus = scotus[new_cols]"
   ]
  },
  {
   "cell_type": "code",
   "execution_count": 53,
   "id": "271ab5f1",
   "metadata": {},
   "outputs": [
    {
     "data": {
      "text/html": [
       "<div>\n",
       "<style scoped>\n",
       "    .dataframe tbody tr th:only-of-type {\n",
       "        vertical-align: middle;\n",
       "    }\n",
       "\n",
       "    .dataframe tbody tr th {\n",
       "        vertical-align: top;\n",
       "    }\n",
       "\n",
       "    .dataframe thead th {\n",
       "        text-align: right;\n",
       "    }\n",
       "</style>\n",
       "<table border=\"1\" class=\"dataframe\">\n",
       "  <thead>\n",
       "    <tr style=\"text-align: right;\">\n",
       "      <th></th>\n",
       "      <th>birth_date</th>\n",
       "      <th>birth_year</th>\n",
       "      <th>birth_month</th>\n",
       "      <th>birth_day</th>\n",
       "      <th>birth_st</th>\n",
       "      <th>gender</th>\n",
       "      <th>race</th>\n",
       "      <th>religion</th>\n",
       "      <th>state</th>\n",
       "      <th>party</th>\n",
       "      <th>...</th>\n",
       "      <th>term_start_month</th>\n",
       "      <th>term_start_day</th>\n",
       "      <th>term_end</th>\n",
       "      <th>term_end_year</th>\n",
       "      <th>term_end_month</th>\n",
       "      <th>term_end_day</th>\n",
       "      <th>death_date</th>\n",
       "      <th>death_year</th>\n",
       "      <th>death_month</th>\n",
       "      <th>death_day</th>\n",
       "    </tr>\n",
       "    <tr>\n",
       "      <th>name</th>\n",
       "      <th></th>\n",
       "      <th></th>\n",
       "      <th></th>\n",
       "      <th></th>\n",
       "      <th></th>\n",
       "      <th></th>\n",
       "      <th></th>\n",
       "      <th></th>\n",
       "      <th></th>\n",
       "      <th></th>\n",
       "      <th></th>\n",
       "      <th></th>\n",
       "      <th></th>\n",
       "      <th></th>\n",
       "      <th></th>\n",
       "      <th></th>\n",
       "      <th></th>\n",
       "      <th></th>\n",
       "      <th></th>\n",
       "      <th></th>\n",
       "      <th></th>\n",
       "    </tr>\n",
       "  </thead>\n",
       "  <tbody>\n",
       "    <tr>\n",
       "      <th>Joseph Lamar</th>\n",
       "      <td>1857-10-14</td>\n",
       "      <td>1857</td>\n",
       "      <td>October</td>\n",
       "      <td>14</td>\n",
       "      <td>GA</td>\n",
       "      <td>M</td>\n",
       "      <td>White</td>\n",
       "      <td>disciples of christ</td>\n",
       "      <td>GA</td>\n",
       "      <td>Democrat</td>\n",
       "      <td>...</td>\n",
       "      <td>January</td>\n",
       "      <td>3</td>\n",
       "      <td>1916-01-02</td>\n",
       "      <td>1916</td>\n",
       "      <td>January</td>\n",
       "      <td>2</td>\n",
       "      <td>1916-01-02</td>\n",
       "      <td>1916</td>\n",
       "      <td>1</td>\n",
       "      <td>2</td>\n",
       "    </tr>\n",
       "  </tbody>\n",
       "</table>\n",
       "<p>1 rows × 25 columns</p>\n",
       "</div>"
      ],
      "text/plain": [
       "              birth_date  birth_year birth_month  birth_day birth_st gender  \\\n",
       "name                                                                          \n",
       "Joseph Lamar  1857-10-14        1857     October         14       GA      M   \n",
       "\n",
       "               race             religion state     party  ...  \\\n",
       "name                                                      ...   \n",
       "Joseph Lamar  White  disciples of christ    GA  Democrat  ...   \n",
       "\n",
       "              term_start_month  term_start_day    term_end term_end_year  \\\n",
       "name                                                                       \n",
       "Joseph Lamar           January               3  1916-01-02          1916   \n",
       "\n",
       "              term_end_month term_end_day  death_date death_year death_month  \\\n",
       "name                                                                           \n",
       "Joseph Lamar         January            2  1916-01-02       1916           1   \n",
       "\n",
       "             death_day  \n",
       "name                    \n",
       "Joseph Lamar         2  \n",
       "\n",
       "[1 rows x 25 columns]"
      ]
     },
     "execution_count": 53,
     "metadata": {},
     "output_type": "execute_result"
    }
   ],
   "source": [
    "scotus.sample()"
   ]
  },
  {
   "cell_type": "markdown",
   "id": "19b1e5c6",
   "metadata": {},
   "source": [
    "**Task 6: Replace the ```M``` and ```F``` values within the ```gender``` column with ```Male``` and ```Female``` respectively.**\n",
    "-  Use the ```map``` function"
   ]
  },
  {
   "cell_type": "code",
   "execution_count": 54,
   "id": "533086dc",
   "metadata": {},
   "outputs": [],
   "source": [
    "scotus[\"gender\"] = scotus[\"gender\"].map({\"M\": \"Male\",\n",
    "                                        \"F\": \"Female\"})"
   ]
  },
  {
   "cell_type": "code",
   "execution_count": 55,
   "id": "5542020e",
   "metadata": {},
   "outputs": [
    {
     "data": {
      "text/plain": [
       "array(['Male', 'Female'], dtype=object)"
      ]
     },
     "execution_count": 55,
     "metadata": {},
     "output_type": "execute_result"
    }
   ],
   "source": [
    "scotus[\"gender\"].unique()"
   ]
  },
  {
   "cell_type": "markdown",
   "id": "9afa7b8b",
   "metadata": {},
   "source": [
    "**Task 7: Capitalize the values within the ```religion``` column**"
   ]
  },
  {
   "cell_type": "code",
   "execution_count": 56,
   "id": "ed3dcf9e",
   "metadata": {},
   "outputs": [
    {
     "data": {
      "text/plain": [
       "array(['episcopalian', 'congregationalist', ' presbyterian', ' unitarian',\n",
       "       'methodist', ' roman catholic', ' protestant', ' quaker',\n",
       "       'dutch reform', 'baptist', 'lutheran', 'disciples of christ',\n",
       "       'jewish', 'roman catholic'], dtype=object)"
      ]
     },
     "execution_count": 56,
     "metadata": {},
     "output_type": "execute_result"
    }
   ],
   "source": [
    "scotus[\"religion\"].unique()"
   ]
  },
  {
   "cell_type": "code",
   "execution_count": 57,
   "id": "02de542a",
   "metadata": {},
   "outputs": [],
   "source": [
    "scotus[\"religion\"] = scotus[\"religion\"].str.title()"
   ]
  },
  {
   "cell_type": "markdown",
   "id": "4c7c6936",
   "metadata": {},
   "source": [
    "- Why the ```title()``` method instead of ```capitalize()```?\n",
    "    - Since a couple of the values are more than one word (```roman catholic```), it'll only make sense to capitalize the first letter of both words as its a proper noun\n",
    "        - As seen below, ```disciples of christ``` converted to ```Disciples Of Christ```\n",
    "            - *Let sleeping dogs lie*"
   ]
  },
  {
   "cell_type": "code",
   "execution_count": 58,
   "id": "6c38970e",
   "metadata": {},
   "outputs": [
    {
     "data": {
      "text/plain": [
       "array(['Episcopalian', 'Congregationalist', ' Presbyterian', ' Unitarian',\n",
       "       'Methodist', ' Roman Catholic', ' Protestant', ' Quaker',\n",
       "       'Dutch Reform', 'Baptist', 'Lutheran', 'Disciples Of Christ',\n",
       "       'Jewish', 'Roman Catholic'], dtype=object)"
      ]
     },
     "execution_count": 58,
     "metadata": {},
     "output_type": "execute_result"
    }
   ],
   "source": [
    "scotus[\"religion\"].unique()"
   ]
  },
  {
   "cell_type": "markdown",
   "id": "1204bc6a",
   "metadata": {},
   "source": [
    "**Task 8: Replace the state abbreviation values within the ```birth_state``` and ```state``` columns with the states' name**"
   ]
  },
  {
   "cell_type": "markdown",
   "id": "2ac9462d",
   "metadata": {},
   "source": [
    "##### 8.1: Create a dictionary of the state abbreviations  (```CA: California```) "
   ]
  },
  {
   "cell_type": "code",
   "execution_count": 59,
   "id": "ed60eeb9",
   "metadata": {},
   "outputs": [
    {
     "data": {
      "text/plain": [
       "array(['NY', 'SC', 'MA', nan, 'VA', 'MD', 'CT', 'NC', 'NJ', 'GA', 'PA',\n",
       "       'NH', 'KY', 'OH', 'ME', 'TN', 'LA', 'IN', 'MN', 'AL', 'MI', 'TX',\n",
       "       'CA', 'IL', 'KS', 'CO', 'WI', 'DC'], dtype=object)"
      ]
     },
     "execution_count": 59,
     "metadata": {},
     "output_type": "execute_result"
    }
   ],
   "source": [
    "births = scotus[\"birth_st\"].unique()\n",
    "births"
   ]
  },
  {
   "cell_type": "code",
   "execution_count": 60,
   "id": "eed1fa7d",
   "metadata": {},
   "outputs": [
    {
     "data": {
      "text/plain": [
       "array(['NY', 'SC', 'MA', 'PA', 'VA', 'NC', 'MD', 'NJ', 'CT', 'KY', 'OH',\n",
       "       'GA', 'TN', 'AL', 'NH', 'ME', 'IA', 'IL', 'CA', 'MS', 'KS', 'MI',\n",
       "       'LA', 'WY', 'UT', 'MN', 'TX', 'IN', 'MO', 'CO', 'AZ'], dtype=object)"
      ]
     },
     "execution_count": 60,
     "metadata": {},
     "output_type": "execute_result"
    }
   ],
   "source": [
    "reside = scotus[\"state\"].unique()\n",
    "reside"
   ]
  },
  {
   "cell_type": "code",
   "execution_count": 61,
   "id": "06092f24",
   "metadata": {},
   "outputs": [],
   "source": [
    "scotus['birth_st'] = scotus['birth_st'].fillna(\"nan\")"
   ]
  },
  {
   "cell_type": "code",
   "execution_count": 62,
   "id": "2729f4f5",
   "metadata": {},
   "outputs": [],
   "source": [
    "state_codes = {'AL': 'Alabama','AK': 'Alaska','AZ': 'Arizona','AR': 'Arkansas','CA': 'California',\n",
    "               'CO': 'Colorado','CT': 'Connecticut','DC': \"District of Columbia\", 'DE': 'Delaware','FL': 'Florida','GA': 'Georgia',\n",
    "               'HI': 'Hawaii','ID': 'Idaho', 'IL': 'Illinois', 'IN': 'Indiana','IA': 'Iowa','KS': 'Kansas',\n",
    "               'KY': 'Kentucky','LA': 'Louisiana','ME': 'Maine','MD': 'Maryland','MA': 'Massachusetts',\n",
    "               'MI': 'Michigan','MN': 'Minnesota','MS': 'Mississippi','MO': 'Missouri','MT': 'Montana',\n",
    "               'NE': 'Nebraska','NV': 'Nevada','NH': 'New Hampshire','NJ': 'New Jersey','NM': 'New Mexico',\n",
    "               'NY': 'New York', 'NC': 'North Carolina','ND': 'North Dakota','OH': 'Ohio','OK': 'Oklahoma',\n",
    "               'OR': 'Oregon','PA': 'Pennsylvania','RI': 'Rhode Island','SC': 'South Carolina',\n",
    "               'SD': 'South Dakota','TN': 'Tennessee','TX': 'Texas','UT': 'Utah', 'VT': 'Vermont',\n",
    "               'VA': 'Virginia','WA': 'Washington','WV': 'West Virginia','WI': 'Wisconsin','WY': 'Wyoming', \n",
    "               \"nan\": \"nan\"}"
   ]
  },
  {
   "cell_type": "code",
   "execution_count": 63,
   "id": "144dce37",
   "metadata": {},
   "outputs": [
    {
     "data": {
      "text/plain": [
       "52"
      ]
     },
     "execution_count": 63,
     "metadata": {},
     "output_type": "execute_result"
    }
   ],
   "source": [
    "len(state_codes)"
   ]
  },
  {
   "cell_type": "markdown",
   "id": "0c8eab76",
   "metadata": {},
   "source": [
    "##### 8.2: Create a function that converts all of the state abbreviations to state names "
   ]
  },
  {
   "cell_type": "code",
   "execution_count": 64,
   "id": "766f409b",
   "metadata": {},
   "outputs": [],
   "source": [
    "def code_to_state(code):\n",
    "    return state_codes[code]"
   ]
  },
  {
   "cell_type": "code",
   "execution_count": 65,
   "id": "d51b49dc",
   "metadata": {},
   "outputs": [
    {
     "data": {
      "text/plain": [
       "'Louisiana'"
      ]
     },
     "execution_count": 65,
     "metadata": {},
     "output_type": "execute_result"
    }
   ],
   "source": [
    "code_to_state(\"LA\")"
   ]
  },
  {
   "cell_type": "markdown",
   "id": "15431b2f",
   "metadata": {},
   "source": [
    "##### 8.3: Apply the ```code_to_state``` function to the ```birth_st``` and ```state``` columns"
   ]
  },
  {
   "cell_type": "code",
   "execution_count": 66,
   "id": "462422fa",
   "metadata": {},
   "outputs": [],
   "source": [
    "scotus[\"birth_st\"] = scotus[\"birth_st\"].apply(code_to_state)"
   ]
  },
  {
   "cell_type": "code",
   "execution_count": 67,
   "id": "a7e23906",
   "metadata": {},
   "outputs": [
    {
     "data": {
      "text/plain": [
       "array(['New York', 'South Carolina', 'Massachusetts', 'nan', 'Virginia',\n",
       "       'Maryland', 'Connecticut', 'North Carolina', 'New Jersey',\n",
       "       'Georgia', 'Pennsylvania', 'New Hampshire', 'Kentucky', 'Ohio',\n",
       "       'Maine', 'Tennessee', 'Louisiana', 'Indiana', 'Minnesota',\n",
       "       'Alabama', 'Michigan', 'Texas', 'California', 'Illinois', 'Kansas',\n",
       "       'Colorado', 'Wisconsin', 'District of Columbia'], dtype=object)"
      ]
     },
     "execution_count": 67,
     "metadata": {},
     "output_type": "execute_result"
    }
   ],
   "source": [
    "scotus[\"birth_st\"].unique()"
   ]
  },
  {
   "cell_type": "code",
   "execution_count": 68,
   "id": "06a6ff66",
   "metadata": {},
   "outputs": [],
   "source": [
    "scotus[\"state\"] = scotus[\"state\"].apply(code_to_state)"
   ]
  },
  {
   "cell_type": "code",
   "execution_count": 69,
   "id": "3209b37c",
   "metadata": {},
   "outputs": [
    {
     "data": {
      "text/plain": [
       "array(['New York', 'South Carolina', 'Massachusetts', 'Pennsylvania',\n",
       "       'Virginia', 'North Carolina', 'Maryland', 'New Jersey',\n",
       "       'Connecticut', 'Kentucky', 'Ohio', 'Georgia', 'Tennessee',\n",
       "       'Alabama', 'New Hampshire', 'Maine', 'Iowa', 'Illinois',\n",
       "       'California', 'Mississippi', 'Kansas', 'Michigan', 'Louisiana',\n",
       "       'Wyoming', 'Utah', 'Minnesota', 'Texas', 'Indiana', 'Missouri',\n",
       "       'Colorado', 'Arizona'], dtype=object)"
      ]
     },
     "execution_count": 69,
     "metadata": {},
     "output_type": "execute_result"
    }
   ],
   "source": [
    "scotus[\"state\"].unique()"
   ]
  },
  {
   "cell_type": "markdown",
   "id": "21f19717",
   "metadata": {},
   "source": [
    "**Task 8: Replace the President number values within the ```president``` column**"
   ]
  },
  {
   "cell_type": "code",
   "execution_count": 70,
   "id": "ae7771a5",
   "metadata": {},
   "outputs": [
    {
     "data": {
      "text/plain": [
       "array([ 1,  2,  3,  4,  5,  6,  7,  8, 10, 11, 13, 14, 15, 16, 18, 19, 20,\n",
       "       21, 22, 23, 24, 25, 26, 27, 28, 29, 30, 31, 32, 33, 34, 35, 36, 37,\n",
       "       38, 40, 41, 42, 43, 44, 45])"
      ]
     },
     "execution_count": 70,
     "metadata": {},
     "output_type": "execute_result"
    }
   ],
   "source": [
    "scotus[\"president\"].unique()"
   ]
  },
  {
   "cell_type": "code",
   "execution_count": 71,
   "id": "6d6cd15b",
   "metadata": {},
   "outputs": [],
   "source": [
    "president_codes = {1: \"George Washington\", 2: \"John Adams\", 3: \"Thomas Jefferson\", 4: \"James Madison\", \n",
    "                   5: \"James Monroe\", 6: \"John Quincy Adams\", 7: \"Andrew Jackson\", 8: \"Martin Van Buren\", \n",
    "                   9: \"William Henry Harrison\", 10: \"John Tyler\", 11: \"James Polk\", 12: \"Zachary Taylor\", \n",
    "                   13: \"Millard Fillmore\", 14: \"Franklin Pierce\", 15: \"James Buchanan\", 16: \"Abraham Lincoln\", \n",
    "                   17: \"Andrew Jackson\", 18: \"Ulysses Grant\", 19: \"Rutherford Hayes\", 20: \"James Garfield\", \n",
    "                   21: \"Chester Arthur\", 22: \"Grover Cleveland\", 23: \"Benjamin Harrison\", 24: \"Grover Cleveland\",\n",
    "                   25: \"William McKinley\", 26: \"Theodore Roosevelt\", 27: \"William Taft\", 28: \"Woodrow Wilson\", \n",
    "                   29: \"Warren Harding\", 30: \"Calvin Coolidge\", 31: \"Herbert Hoover\", 32: \"Franklin Roosevelt\",\n",
    "                   33: \"Hary Truman\", 34: \"Dwight Eisenhower\", 35: \"John Kennedy\", 36: \"Lyndon Johnson\", \n",
    "                   37: \"Richard Nixon\", 38: \"Gerald Ford\", 39: \"James Carter\", 40: \"Ronald Reagan\", \n",
    "                   41: \"George H.W. Bush\", 42: \"Bill Clinton\", 43: \"George W. Bush\", 44: \"Barack Obama\",\n",
    "                   45: \"Donald Trump\", 46: \"Joseph Biden\"}"
   ]
  },
  {
   "cell_type": "code",
   "execution_count": 72,
   "id": "8f22a365",
   "metadata": {},
   "outputs": [
    {
     "data": {
      "text/plain": [
       "'George Washington'"
      ]
     },
     "execution_count": 72,
     "metadata": {},
     "output_type": "execute_result"
    }
   ],
   "source": [
    "president_codes[1]"
   ]
  },
  {
   "cell_type": "code",
   "execution_count": 73,
   "id": "d8e51358",
   "metadata": {},
   "outputs": [],
   "source": [
    "def code_to_president(code):\n",
    "    return president_codes[code]"
   ]
  },
  {
   "cell_type": "code",
   "execution_count": 74,
   "id": "be408c7d",
   "metadata": {},
   "outputs": [
    {
     "data": {
      "text/plain": [
       "'George Washington'"
      ]
     },
     "execution_count": 74,
     "metadata": {},
     "output_type": "execute_result"
    }
   ],
   "source": [
    "code_to_president(1)"
   ]
  },
  {
   "cell_type": "code",
   "execution_count": 75,
   "id": "02a4189c",
   "metadata": {},
   "outputs": [],
   "source": [
    "scotus[\"president\"] = scotus[\"president\"].apply(code_to_president)"
   ]
  },
  {
   "cell_type": "code",
   "execution_count": 76,
   "id": "fa138f91",
   "metadata": {},
   "outputs": [
    {
     "data": {
      "text/plain": [
       "array(['George Washington', 'John Adams', 'Thomas Jefferson',\n",
       "       'James Madison', 'James Monroe', 'John Quincy Adams',\n",
       "       'Andrew Jackson', 'Martin Van Buren', 'John Tyler', 'James Polk',\n",
       "       'Millard Fillmore', 'Franklin Pierce', 'James Buchanan',\n",
       "       'Abraham Lincoln', 'Ulysses Grant', 'Rutherford Hayes',\n",
       "       'James Garfield', 'Chester Arthur', 'Grover Cleveland',\n",
       "       'Benjamin Harrison', 'William McKinley', 'Theodore Roosevelt',\n",
       "       'William Taft', 'Woodrow Wilson', 'Warren Harding',\n",
       "       'Calvin Coolidge', 'Herbert Hoover', 'Franklin Roosevelt',\n",
       "       'Hary Truman', 'Dwight Eisenhower', 'John Kennedy',\n",
       "       'Lyndon Johnson', 'Richard Nixon', 'Gerald Ford', 'Ronald Reagan',\n",
       "       'George H.W. Bush', 'Bill Clinton', 'George W. Bush',\n",
       "       'Barack Obama', 'Donald Trump'], dtype=object)"
      ]
     },
     "execution_count": 76,
     "metadata": {},
     "output_type": "execute_result"
    }
   ],
   "source": [
    "scotus[\"president\"].unique()"
   ]
  },
  {
   "cell_type": "markdown",
   "id": "3be97bb0",
   "metadata": {},
   "source": [
    "**Task 9: Check the dataframe one final time**"
   ]
  },
  {
   "cell_type": "code",
   "execution_count": 77,
   "id": "c9ff7bd5",
   "metadata": {},
   "outputs": [
    {
     "data": {
      "text/html": [
       "<div>\n",
       "<style scoped>\n",
       "    .dataframe tbody tr th:only-of-type {\n",
       "        vertical-align: middle;\n",
       "    }\n",
       "\n",
       "    .dataframe tbody tr th {\n",
       "        vertical-align: top;\n",
       "    }\n",
       "\n",
       "    .dataframe thead th {\n",
       "        text-align: right;\n",
       "    }\n",
       "</style>\n",
       "<table border=\"1\" class=\"dataframe\">\n",
       "  <thead>\n",
       "    <tr style=\"text-align: right;\">\n",
       "      <th></th>\n",
       "      <th>birth_date</th>\n",
       "      <th>birth_year</th>\n",
       "      <th>birth_month</th>\n",
       "      <th>birth_day</th>\n",
       "      <th>birth_st</th>\n",
       "      <th>gender</th>\n",
       "      <th>race</th>\n",
       "      <th>religion</th>\n",
       "      <th>state</th>\n",
       "      <th>party</th>\n",
       "      <th>...</th>\n",
       "      <th>term_start_month</th>\n",
       "      <th>term_start_day</th>\n",
       "      <th>term_end</th>\n",
       "      <th>term_end_year</th>\n",
       "      <th>term_end_month</th>\n",
       "      <th>term_end_day</th>\n",
       "      <th>death_date</th>\n",
       "      <th>death_year</th>\n",
       "      <th>death_month</th>\n",
       "      <th>death_day</th>\n",
       "    </tr>\n",
       "    <tr>\n",
       "      <th>name</th>\n",
       "      <th></th>\n",
       "      <th></th>\n",
       "      <th></th>\n",
       "      <th></th>\n",
       "      <th></th>\n",
       "      <th></th>\n",
       "      <th></th>\n",
       "      <th></th>\n",
       "      <th></th>\n",
       "      <th></th>\n",
       "      <th></th>\n",
       "      <th></th>\n",
       "      <th></th>\n",
       "      <th></th>\n",
       "      <th></th>\n",
       "      <th></th>\n",
       "      <th></th>\n",
       "      <th></th>\n",
       "      <th></th>\n",
       "      <th></th>\n",
       "      <th></th>\n",
       "    </tr>\n",
       "  </thead>\n",
       "  <tbody>\n",
       "    <tr>\n",
       "      <th>Brett Kavanaugh</th>\n",
       "      <td>1965-02-12</td>\n",
       "      <td>1965</td>\n",
       "      <td>February</td>\n",
       "      <td>12</td>\n",
       "      <td>District of Columbia</td>\n",
       "      <td>Male</td>\n",
       "      <td>White</td>\n",
       "      <td>Roman Catholic</td>\n",
       "      <td>Maryland</td>\n",
       "      <td>Republican</td>\n",
       "      <td>...</td>\n",
       "      <td>October</td>\n",
       "      <td>6</td>\n",
       "      <td>nan</td>\n",
       "      <td>nan</td>\n",
       "      <td>nan</td>\n",
       "      <td>nan</td>\n",
       "      <td>nan</td>\n",
       "      <td>nan</td>\n",
       "      <td>nan</td>\n",
       "      <td>nan</td>\n",
       "    </tr>\n",
       "    <tr>\n",
       "      <th>Melville Fuller</th>\n",
       "      <td>1833-02-11</td>\n",
       "      <td>1833</td>\n",
       "      <td>February</td>\n",
       "      <td>11</td>\n",
       "      <td>Maine</td>\n",
       "      <td>Male</td>\n",
       "      <td>White</td>\n",
       "      <td>Episcopalian</td>\n",
       "      <td>Illinois</td>\n",
       "      <td>Democrat</td>\n",
       "      <td>...</td>\n",
       "      <td>October</td>\n",
       "      <td>8</td>\n",
       "      <td>1910-07-04</td>\n",
       "      <td>1910</td>\n",
       "      <td>July</td>\n",
       "      <td>4</td>\n",
       "      <td>1910-07-04</td>\n",
       "      <td>1910</td>\n",
       "      <td>7</td>\n",
       "      <td>4</td>\n",
       "    </tr>\n",
       "    <tr>\n",
       "      <th>David Souter</th>\n",
       "      <td>1939-09-17</td>\n",
       "      <td>1939</td>\n",
       "      <td>September</td>\n",
       "      <td>17</td>\n",
       "      <td>Massachusetts</td>\n",
       "      <td>Male</td>\n",
       "      <td>White</td>\n",
       "      <td>Episcopalian</td>\n",
       "      <td>New Hampshire</td>\n",
       "      <td>Republican</td>\n",
       "      <td>...</td>\n",
       "      <td>October</td>\n",
       "      <td>9</td>\n",
       "      <td>2009-06-30</td>\n",
       "      <td>2009</td>\n",
       "      <td>June</td>\n",
       "      <td>30</td>\n",
       "      <td>nan</td>\n",
       "      <td>nan</td>\n",
       "      <td>nan</td>\n",
       "      <td>nan</td>\n",
       "    </tr>\n",
       "  </tbody>\n",
       "</table>\n",
       "<p>3 rows × 25 columns</p>\n",
       "</div>"
      ],
      "text/plain": [
       "                 birth_date  birth_year birth_month  birth_day  \\\n",
       "name                                                             \n",
       "Brett Kavanaugh  1965-02-12        1965    February         12   \n",
       "Melville Fuller  1833-02-11        1833    February         11   \n",
       "David Souter     1939-09-17        1939   September         17   \n",
       "\n",
       "                             birth_st gender   race         religion  \\\n",
       "name                                                                   \n",
       "Brett Kavanaugh  District of Columbia   Male  White   Roman Catholic   \n",
       "Melville Fuller                 Maine   Male  White     Episcopalian   \n",
       "David Souter            Massachusetts   Male  White     Episcopalian   \n",
       "\n",
       "                         state       party  ... term_start_month  \\\n",
       "name                                        ...                    \n",
       "Brett Kavanaugh       Maryland  Republican  ...          October   \n",
       "Melville Fuller       Illinois    Democrat  ...          October   \n",
       "David Souter     New Hampshire  Republican  ...          October   \n",
       "\n",
       "                 term_start_day    term_end term_end_year  term_end_month  \\\n",
       "name                                                                        \n",
       "Brett Kavanaugh               6         nan           nan             nan   \n",
       "Melville Fuller               8  1910-07-04          1910            July   \n",
       "David Souter                  9  2009-06-30          2009            June   \n",
       "\n",
       "                term_end_day  death_date death_year death_month death_day  \n",
       "name                                                                       \n",
       "Brett Kavanaugh          nan         nan        nan         nan       nan  \n",
       "Melville Fuller            4  1910-07-04       1910           7         4  \n",
       "David Souter              30         nan        nan         nan       nan  \n",
       "\n",
       "[3 rows x 25 columns]"
      ]
     },
     "execution_count": 77,
     "metadata": {},
     "output_type": "execute_result"
    }
   ],
   "source": [
    "scotus.sample(3)"
   ]
  },
  {
   "cell_type": "code",
   "execution_count": 78,
   "id": "0bc93e40",
   "metadata": {},
   "outputs": [],
   "source": [
    "scotus.to_csv('supreme_data_revised.csv', index = False)"
   ]
  },
  {
   "cell_type": "markdown",
   "id": "9ab04f8b",
   "metadata": {},
   "source": [
    "**Part 2 (EDA) and Part 3 (Statistical Analysis) can be found [here](\"https://github.com/bzekeria/US-Supreme-Court/tree/main/Demographics\") once completed**"
   ]
  }
 ],
 "metadata": {
  "kernelspec": {
   "display_name": "Python 3",
   "language": "python",
   "name": "python3"
  },
  "language_info": {
   "codemirror_mode": {
    "name": "ipython",
    "version": 3
   },
   "file_extension": ".py",
   "mimetype": "text/x-python",
   "name": "python",
   "nbconvert_exporter": "python",
   "pygments_lexer": "ipython3",
   "version": "3.8.8"
  }
 },
 "nbformat": 4,
 "nbformat_minor": 5
}
